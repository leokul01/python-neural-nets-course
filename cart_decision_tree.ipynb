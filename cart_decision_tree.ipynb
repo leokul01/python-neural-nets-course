{
 "cells": [
  {
   "cell_type": "markdown",
   "metadata": {},
   "source": [
    "**Classification and Regression Trees or CART** for short is a term introduced by Leo Breiman to refer to Decision Tree algorithms that can be used for classification or regression predictive modeling problems.\n",
    "\n",
    "The representation for the CART model is a binary tree.\n",
    "The leaf nodes of the tree contain an output variable (y) which is used to make a prediction.\n",
    "\n",
    "With the binary tree representation of the CART model described above, making predictions is relatively straightforward.\n",
    "\n",
    "Given a new input, the tree is traversed by evaluating the specific input started at the root node of the tree.\n",
    "\n",
    "A learned binary tree is actually a partitioning of the input space. You can think of each input variable as a dimension on a p-dimensional space. The decision tree split this up into rectangles (when p=2 input variables) or some kind of hyper-rectangles with more inputs.\n",
    "\n",
    "New data is filtered through the tree and lands in one of the rectangles and the output value for that rectangle is the prediction made by the model. This gives you some feeling for the type of decisions that a CART model is capable of making, e.g. boxy decision boundaries."
   ]
  },
  {
   "cell_type": "markdown",
   "metadata": {},
   "source": [
    "Creating a binary decision tree is actually a process of dividing up the input space. A greedy approach is used to divide the space called recursive binary splitting. This is a numerical procedure where all the values are lined up and different split points are tried and tested using a cost function. The split with the best cost (lowest cost because we minimize cost) is selected. All input variables and all possible split points are evaluated and chosen in a greedy manner (e.g. the very best split point is chosen each time)."
   ]
  },
  {
   "cell_type": "code",
   "execution_count": 1,
   "metadata": {},
   "outputs": [],
   "source": [
    "import numpy as np\n",
    "\n",
    "X = np.array(\n",
    "    [[2.771244718, 1.784783929],\n",
    "    [1.728571309, 1.169761413],\n",
    "    [3.678319846, 2.81281357],\n",
    "    [3.961043357, 2.61995032],\n",
    "    [2.999208922, 2.209014212],\n",
    "    [7.497545867, 3.162953546],\n",
    "    [9.00220326, 3.339047188],\n",
    "    [7.444542326, 0.476683375],\n",
    "    [10.12493903, 3.234550982],\n",
    "    [6.642287351, 3.319983761]]\n",
    ")\n",
    "\n",
    "y = np.array([0, 0, 0, 0, 0, 1, 1, 1, 1, 1])\n",
    "\n",
    "data = np.concatenate((X, np.array([y]).T), axis=1)"
   ]
  },
  {
   "cell_type": "code",
   "execution_count": 2,
   "metadata": {},
   "outputs": [
    {
     "data": {
      "text/plain": [
       "array([[ 2.77124472,  1.78478393,  0.        ],\n",
       "       [ 1.72857131,  1.16976141,  0.        ],\n",
       "       [ 3.67831985,  2.81281357,  0.        ],\n",
       "       [ 3.96104336,  2.61995032,  0.        ],\n",
       "       [ 2.99920892,  2.20901421,  0.        ],\n",
       "       [ 7.49754587,  3.16295355,  1.        ],\n",
       "       [ 9.00220326,  3.33904719,  1.        ],\n",
       "       [ 7.44454233,  0.47668338,  1.        ],\n",
       "       [10.12493903,  3.23455098,  1.        ],\n",
       "       [ 6.64228735,  3.31998376,  1.        ]])"
      ]
     },
     "execution_count": 2,
     "metadata": {},
     "output_type": "execute_result"
    }
   ],
   "source": [
    "data"
   ]
  },
  {
   "cell_type": "code",
   "execution_count": 3,
   "metadata": {},
   "outputs": [
    {
     "data": {
      "text/plain": [
       "<matplotlib.legend.Legend at 0x118028fd0>"
      ]
     },
     "execution_count": 3,
     "metadata": {},
     "output_type": "execute_result"
    }
   ],
   "source": [
    "import matplotlib.pyplot as plt\n",
    "\n",
    "class1 = np.where(y == 0)[0]\n",
    "class2 = np.where(y == 1)[0]\n",
    "\n",
    "plt.scatter(X[class1, 0], X[class1, 1], c='b', label='0', marker='d')\n",
    "plt.scatter(X[class2, 0], X[class2, 1], c='r', label='1', marker='s')\n",
    "plt.legend(loc='best')"
   ]
  },
  {
   "cell_type": "code",
   "execution_count": 43,
   "metadata": {},
   "outputs": [],
   "source": [
    "# Tree\n",
    "# 0, 1 - листовой узел\n",
    "# (split_point, left_subtree, right_subtree), where split_point = (attribute_num, attribute_value)\n",
    "\n",
    "\n",
    "class CartDecisionTree:\n",
    "            \n",
    "        \n",
    "    def partition_by(self, split_point, data):\n",
    "        \"\"\"Get subsets from data splitted by split_point\"\"\"\n",
    "        attribute_num, attribute_val = split_point\n",
    "        left_subset = np.array([d for d in data if d[attribute_num] < attribute_val])\n",
    "        right_subset = np.array([d for d in data if d[attribute_num] >= attribute_val])\n",
    "        \n",
    "        return left_subset, right_subset\n",
    "    \n",
    "    \n",
    "    def find_class_shares(self, split_point, data):\n",
    "        \"\"\"Find shares of classes in left and right subsets built upon split_point\"\"\"\n",
    "        left_subset, right_subset = self.partition_by(split_point, data)\n",
    "        \n",
    "        left_class_shares = []\n",
    "        right_class_shares = []\n",
    "        for c in self.unique_classes:\n",
    "            left_class_shares.append(\n",
    "                len([d for d in left_subset if d[-1] == c]) / len(left_subset)\n",
    "                if len(left_subset) > 0 else np.nan\n",
    "            )\n",
    "            right_class_shares.append(\n",
    "                len([d for d in right_subset if d[-1] == c]) / len(right_subset)\n",
    "                if len(right_subset) > 0 else np.nan\n",
    "            )\n",
    "        \n",
    "        return left_class_shares, right_class_shares\n",
    "    \n",
    "    \n",
    "    def gini_cost(self, split_point, data):\n",
    "        \"\"\"Cost function for classification trees\"\"\"\n",
    "        # Note: Instead of GiniImpurity (=GiniCost, =GiniIndex) we can use weightened GiniGain function\n",
    "        left_class_shares, right_class_shares = self.find_class_shares(split_point, data)\n",
    "        return sum(l * (1 - l) + r * (1 - r) for l, r in zip(left_class_shares, right_class_shares))\n",
    "    \n",
    "    \n",
    "    def find_best_split_point(self, data):\n",
    "        \"\"\"Find best split point in data\"\"\"\n",
    "        # Note: Instead of attrubutes values for split points we can use adjacent values (better results)\n",
    "        best_gini = np.inf\n",
    "        best_split_point = None\n",
    "        \n",
    "        for x in data[:, :-1]:\n",
    "            for attribute_num, attribute_value in enumerate(x):\n",
    "                split_point = attribute_num, attribute_value\n",
    "                gini = self.gini_cost(split_point, data)\n",
    "                \n",
    "                # Edge case\n",
    "                if np.isnan(gini): continue\n",
    "                \n",
    "                if gini < best_gini:\n",
    "                    best_split_point = split_point\n",
    "                    best_gini = gini\n",
    "        \n",
    "        assert best_split_point is not None, 'Internal error: best split point is not found'\n",
    "        \n",
    "        return best_split_point\n",
    "    \n",
    "    \n",
    "    def build_tree(self, data):\n",
    "        data_count = len(data)\n",
    "        classes_counts = [(c, len(np.where(data[:, -1] == c)[0])) for c in self.unique_classes]\n",
    "        \n",
    "        for cc in classes_counts:\n",
    "            if cc[1] == data_count:\n",
    "                return cc[0]\n",
    "        \n",
    "        split_point = self.find_best_split_point(data)\n",
    "        left_subset, right_subset = self.partition_by(split_point, data)\n",
    "        left_subtree, right_subtree = self.build_tree(left_subset), self.build_tree(right_subset)\n",
    "        \n",
    "        return (split_point, left_subtree, right_subtree)\n",
    "                \n",
    "    \n",
    "    def fit(self, data):\n",
    "        self.unique_classes = np.unique(data[:, -1])\n",
    "        self.tree = self.build_tree(data)\n",
    "    \n",
    "    \n",
    "    def predict(self, x, tree=None):\n",
    "        if tree is None:\n",
    "            tree = self.tree\n",
    "        \n",
    "        if tree in self.unique_classes.tolist():\n",
    "            return tree\n",
    "        \n",
    "        split_point, left_subtree, right_subtree = tree\n",
    "        attribute_num, attribute_value = split_point\n",
    "\n",
    "        next_subtree = left_subtree if x[attribute_num] < attribute_value else right_subtree\n",
    "        \n",
    "        return self.predict(x, tree=next_subtree)"
   ]
  },
  {
   "cell_type": "code",
   "execution_count": 44,
   "metadata": {},
   "outputs": [],
   "source": [
    "clf = CartDecisionTree()\n",
    "clf.fit(data)"
   ]
  },
  {
   "cell_type": "code",
   "execution_count": 45,
   "metadata": {},
   "outputs": [
    {
     "data": {
      "text/plain": [
       "((0, 6.642287351), 0.0, 1.0)"
      ]
     },
     "execution_count": 45,
     "metadata": {},
     "output_type": "execute_result"
    }
   ],
   "source": [
    "clf.tree"
   ]
  },
  {
   "cell_type": "code",
   "execution_count": 46,
   "metadata": {},
   "outputs": [
    {
     "data": {
      "text/plain": [
       "True"
      ]
     },
     "execution_count": 46,
     "metadata": {},
     "output_type": "execute_result"
    }
   ],
   "source": [
    "y_pred = []\n",
    "\n",
    "for x in X:\n",
    "    y_pred.append(clf.predict(x))\n",
    "    \n",
    "np.allclose(y_pred, y)"
   ]
  },
  {
   "cell_type": "code",
   "execution_count": 58,
   "metadata": {},
   "outputs": [],
   "source": [
    "# Test\n",
    "\n",
    "from sklearn import datasets\n",
    "\n",
    "iris = datasets.load_iris()\n",
    "X = iris.data\n",
    "y = iris.target"
   ]
  },
  {
   "cell_type": "code",
   "execution_count": 69,
   "metadata": {},
   "outputs": [],
   "source": [
    "from sklearn.model_selection import train_test_split\n",
    "\n",
    "X_train, X_test, y_train, y_test = train_test_split(X, y, test_size=0.33, random_state=42)"
   ]
  },
  {
   "cell_type": "code",
   "execution_count": 70,
   "metadata": {},
   "outputs": [
    {
     "data": {
      "text/plain": [
       "array([[5.7, 2.9, 4.2, 1.3, 1. ],\n",
       "       [7.6, 3. , 6.6, 2.1, 2. ],\n",
       "       [5.6, 3. , 4.5, 1.5, 1. ],\n",
       "       [5.1, 3.5, 1.4, 0.2, 0. ],\n",
       "       [7.7, 2.8, 6.7, 2. , 2. ]])"
      ]
     },
     "execution_count": 70,
     "metadata": {},
     "output_type": "execute_result"
    }
   ],
   "source": [
    "data = np.concatenate((X_train, np.array([y_train]).T), axis=1)\n",
    "data[:5]"
   ]
  },
  {
   "cell_type": "code",
   "execution_count": 71,
   "metadata": {},
   "outputs": [],
   "source": [
    "clf = CartDecisionTree()\n",
    "clf.fit(data)"
   ]
  },
  {
   "cell_type": "code",
   "execution_count": 72,
   "metadata": {},
   "outputs": [
    {
     "data": {
      "text/plain": [
       "((3, 1.0),\n",
       " 0.0,\n",
       " ((3, 1.8),\n",
       "  ((2, 5.6),\n",
       "   ((1, 2.2),\n",
       "    1.0,\n",
       "    ((2, 3.3),\n",
       "     1.0,\n",
       "     ((2, 5.1),\n",
       "      ((0, 7.0),\n",
       "       ((0, 6.9), ((0, 6.7), ((2, 5.0), ((3, 1.7), 1.0, 2.0), 2.0), 1.0), 1.0),\n",
       "       1.0),\n",
       "      1.0))),\n",
       "   2.0),\n",
       "  ((1, 2.7),\n",
       "   2.0,\n",
       "   ((1, 3.8),\n",
       "    ((2, 6.7),\n",
       "     ((2, 6.6),\n",
       "      ((0, 5.8),\n",
       "       2.0,\n",
       "       ((0, 7.7),\n",
       "        ((2, 6.3),\n",
       "         ((0, 7.4),\n",
       "          ((0, 7.2),\n",
       "           ((2, 6.0),\n",
       "            ((3, 2.5),\n",
       "             ((0, 7.1),\n",
       "              ((1, 3.4),\n",
       "               ((1, 3.3),\n",
       "                ((2, 5.7),\n",
       "                 ((0, 6.9),\n",
       "                  ((0, 6.8),\n",
       "                   ((0, 6.7),\n",
       "                    ((3, 2.4),\n",
       "                     ((0, 5.9), 2.0, ((3, 2.3), ((1, 3.2), 2.0, 1.0), 2.0)),\n",
       "                     2.0),\n",
       "                    2.0),\n",
       "                   2.0),\n",
       "                  2.0),\n",
       "                 2.0),\n",
       "                2.0),\n",
       "               2.0),\n",
       "              2.0),\n",
       "             2.0),\n",
       "            2.0),\n",
       "           2.0),\n",
       "          2.0),\n",
       "         2.0),\n",
       "        2.0)),\n",
       "      2.0),\n",
       "     2.0),\n",
       "    2.0))))"
      ]
     },
     "execution_count": 72,
     "metadata": {},
     "output_type": "execute_result"
    }
   ],
   "source": [
    "clf.tree"
   ]
  },
  {
   "cell_type": "code",
   "execution_count": 74,
   "metadata": {},
   "outputs": [],
   "source": [
    "y_pred = []\n",
    "\n",
    "for x in X_test:\n",
    "    y_pred.append(clf.predict(x))"
   ]
  },
  {
   "cell_type": "code",
   "execution_count": 75,
   "metadata": {},
   "outputs": [
    {
     "data": {
      "text/plain": [
       "0.96"
      ]
     },
     "execution_count": 75,
     "metadata": {},
     "output_type": "execute_result"
    }
   ],
   "source": [
    "from sklearn.metrics import accuracy_score\n",
    "\n",
    "accuracy_score(y_pred, y_test)"
   ]
  },
  {
   "cell_type": "code",
   "execution_count": 62,
   "metadata": {},
   "outputs": [],
   "source": [
    "from sklearn import tree\n",
    "\n",
    "sklearn_clf = tree.DecisionTreeClassifier()\n",
    "sklearn_clf = sklearn_clf.fit(X_train, y_train)"
   ]
  },
  {
   "cell_type": "code",
   "execution_count": 79,
   "metadata": {},
   "outputs": [
    {
     "data": {
      "text/plain": [
       "1.0"
      ]
     },
     "execution_count": 79,
     "metadata": {},
     "output_type": "execute_result"
    }
   ],
   "source": [
    "accuracy_score(sklearn_clf.predict(X_test), y_test)"
   ]
  },
  {
   "cell_type": "code",
   "execution_count": 67,
   "metadata": {},
   "outputs": [
    {
     "data": {
      "text/plain": [
       "[(0, 'sepal length (cm)'),\n",
       " (1, 'sepal width (cm)'),\n",
       " (2, 'petal length (cm)'),\n",
       " (3, 'petal width (cm)')]"
      ]
     },
     "execution_count": 67,
     "metadata": {},
     "output_type": "execute_result"
    }
   ],
   "source": [
    "list(enumerate(iris.feature_names))"
   ]
  },
  {
   "cell_type": "code",
   "execution_count": 68,
   "metadata": {},
   "outputs": [
    {
     "data": {
      "text/plain": [
       "[(0, 'setosa'), (1, 'versicolor'), (2, 'virginica')]"
      ]
     },
     "execution_count": 68,
     "metadata": {},
     "output_type": "execute_result"
    }
   ],
   "source": [
    "list(enumerate(iris.target_names))"
   ]
  },
  {
   "cell_type": "code",
   "execution_count": 63,
   "metadata": {},
   "outputs": [
    {
     "data": {
      "image/svg+xml": [
       "<?xml version=\"1.0\" encoding=\"UTF-8\" standalone=\"no\"?>\n",
       "<!DOCTYPE svg PUBLIC \"-//W3C//DTD SVG 1.1//EN\"\n",
       " \"http://www.w3.org/Graphics/SVG/1.1/DTD/svg11.dtd\">\n",
       "<!-- Generated by graphviz version 2.43.0 (0)\n",
       " -->\n",
       "<!-- Title: Tree Pages: 1 -->\n",
       "<svg width=\"883pt\" height=\"642pt\"\n",
       " viewBox=\"0.00 0.00 882.83 642.00\" xmlns=\"http://www.w3.org/2000/svg\" xmlns:xlink=\"http://www.w3.org/1999/xlink\">\n",
       "<g id=\"graph0\" class=\"graph\" transform=\"scale(1 1) rotate(0) translate(4 638)\">\n",
       "<title>Tree</title>\n",
       "<polygon fill=\"white\" stroke=\"transparent\" points=\"-4,4 -4,-638 878.83,-638 878.83,4 -4,4\"/>\n",
       "<!-- 0 -->\n",
       "<g id=\"node1\" class=\"node\">\n",
       "<title>0</title>\n",
       "<path fill=\"#ffffff\" stroke=\"black\" d=\"M529.36,-634C529.36,-634 390.4,-634 390.4,-634 384.4,-634 378.4,-628 378.4,-622 378.4,-622 378.4,-568 378.4,-568 378.4,-562 384.4,-556 390.4,-556 390.4,-556 529.36,-556 529.36,-556 535.36,-556 541.36,-562 541.36,-568 541.36,-568 541.36,-622 541.36,-622 541.36,-628 535.36,-634 529.36,-634\"/>\n",
       "<text text-anchor=\"start\" x=\"386.39\" y=\"-618.8\" font-family=\"Helvetica,sans-Serif\" font-size=\"14.00\">petal length (cm) ≤ 2.45</text>\n",
       "<text text-anchor=\"start\" x=\"423.49\" y=\"-604.8\" font-family=\"Helvetica,sans-Serif\" font-size=\"14.00\">gini = 0.667</text>\n",
       "<text text-anchor=\"start\" x=\"414.16\" y=\"-590.8\" font-family=\"Helvetica,sans-Serif\" font-size=\"14.00\">samples = 150</text>\n",
       "<text text-anchor=\"start\" x=\"400.14\" y=\"-576.8\" font-family=\"Helvetica,sans-Serif\" font-size=\"14.00\">value = [50, 50, 50]</text>\n",
       "<text text-anchor=\"start\" x=\"415.33\" y=\"-562.8\" font-family=\"Helvetica,sans-Serif\" font-size=\"14.00\">class = setosa</text>\n",
       "</g>\n",
       "<!-- 1 -->\n",
       "<g id=\"node2\" class=\"node\">\n",
       "<title>1</title>\n",
       "<path fill=\"#e58139\" stroke=\"black\" d=\"M429.78,-513C429.78,-513 333.97,-513 333.97,-513 327.97,-513 321.97,-507 321.97,-501 321.97,-501 321.97,-461 321.97,-461 321.97,-455 327.97,-449 333.97,-449 333.97,-449 429.78,-449 429.78,-449 435.78,-449 441.78,-455 441.78,-461 441.78,-461 441.78,-501 441.78,-501 441.78,-507 435.78,-513 429.78,-513\"/>\n",
       "<text text-anchor=\"start\" x=\"353.27\" y=\"-497.8\" font-family=\"Helvetica,sans-Serif\" font-size=\"14.00\">gini = 0.0</text>\n",
       "<text text-anchor=\"start\" x=\"340.05\" y=\"-483.8\" font-family=\"Helvetica,sans-Serif\" font-size=\"14.00\">samples = 50</text>\n",
       "<text text-anchor=\"start\" x=\"329.92\" y=\"-469.8\" font-family=\"Helvetica,sans-Serif\" font-size=\"14.00\">value = [50, 0, 0]</text>\n",
       "<text text-anchor=\"start\" x=\"337.33\" y=\"-455.8\" font-family=\"Helvetica,sans-Serif\" font-size=\"14.00\">class = setosa</text>\n",
       "</g>\n",
       "<!-- 0&#45;&gt;1 -->\n",
       "<g id=\"edge1\" class=\"edge\">\n",
       "<title>0&#45;&gt;1</title>\n",
       "<path fill=\"none\" stroke=\"black\" d=\"M433.25,-555.77C425.52,-544.66 417.05,-532.51 409.27,-521.33\"/>\n",
       "<polygon fill=\"black\" stroke=\"black\" points=\"412.06,-519.22 403.47,-513.01 406.32,-523.22 412.06,-519.22\"/>\n",
       "<text text-anchor=\"middle\" x=\"399.07\" y=\"-533.42\" font-family=\"Helvetica,sans-Serif\" font-size=\"14.00\">True</text>\n",
       "</g>\n",
       "<!-- 2 -->\n",
       "<g id=\"node3\" class=\"node\">\n",
       "<title>2</title>\n",
       "<path fill=\"#ffffff\" stroke=\"black\" d=\"M605.4,-520C605.4,-520 472.36,-520 472.36,-520 466.36,-520 460.36,-514 460.36,-508 460.36,-508 460.36,-454 460.36,-454 460.36,-448 466.36,-442 472.36,-442 472.36,-442 605.4,-442 605.4,-442 611.4,-442 617.4,-448 617.4,-454 617.4,-454 617.4,-508 617.4,-508 617.4,-514 611.4,-520 605.4,-520\"/>\n",
       "<text text-anchor=\"start\" x=\"468.12\" y=\"-504.8\" font-family=\"Helvetica,sans-Serif\" font-size=\"14.00\">petal width (cm) ≤ 1.75</text>\n",
       "<text text-anchor=\"start\" x=\"510.27\" y=\"-490.8\" font-family=\"Helvetica,sans-Serif\" font-size=\"14.00\">gini = 0.5</text>\n",
       "<text text-anchor=\"start\" x=\"493.16\" y=\"-476.8\" font-family=\"Helvetica,sans-Serif\" font-size=\"14.00\">samples = 100</text>\n",
       "<text text-anchor=\"start\" x=\"483.03\" y=\"-462.8\" font-family=\"Helvetica,sans-Serif\" font-size=\"14.00\">value = [0, 50, 50]</text>\n",
       "<text text-anchor=\"start\" x=\"485\" y=\"-448.8\" font-family=\"Helvetica,sans-Serif\" font-size=\"14.00\">class = versicolor</text>\n",
       "</g>\n",
       "<!-- 0&#45;&gt;2 -->\n",
       "<g id=\"edge2\" class=\"edge\">\n",
       "<title>0&#45;&gt;2</title>\n",
       "<path fill=\"none\" stroke=\"black\" d=\"M486.84,-555.77C493.07,-546.94 499.76,-537.45 506.21,-528.32\"/>\n",
       "<polygon fill=\"black\" stroke=\"black\" points=\"509.13,-530.25 512.03,-520.06 503.41,-526.21 509.13,-530.25\"/>\n",
       "<text text-anchor=\"middle\" x=\"516.29\" y=\"-540.49\" font-family=\"Helvetica,sans-Serif\" font-size=\"14.00\">False</text>\n",
       "</g>\n",
       "<!-- 3 -->\n",
       "<g id=\"node4\" class=\"node\">\n",
       "<title>3</title>\n",
       "<path fill=\"#4de88e\" stroke=\"black\" d=\"M493.36,-406C493.36,-406 354.4,-406 354.4,-406 348.4,-406 342.4,-400 342.4,-394 342.4,-394 342.4,-340 342.4,-340 342.4,-334 348.4,-328 354.4,-328 354.4,-328 493.36,-328 493.36,-328 499.36,-328 505.36,-334 505.36,-340 505.36,-340 505.36,-394 505.36,-394 505.36,-400 499.36,-406 493.36,-406\"/>\n",
       "<text text-anchor=\"start\" x=\"350.39\" y=\"-390.8\" font-family=\"Helvetica,sans-Serif\" font-size=\"14.00\">petal length (cm) ≤ 4.95</text>\n",
       "<text text-anchor=\"start\" x=\"387.49\" y=\"-376.8\" font-family=\"Helvetica,sans-Serif\" font-size=\"14.00\">gini = 0.168</text>\n",
       "<text text-anchor=\"start\" x=\"382.05\" y=\"-362.8\" font-family=\"Helvetica,sans-Serif\" font-size=\"14.00\">samples = 54</text>\n",
       "<text text-anchor=\"start\" x=\"371.92\" y=\"-348.8\" font-family=\"Helvetica,sans-Serif\" font-size=\"14.00\">value = [0, 49, 5]</text>\n",
       "<text text-anchor=\"start\" x=\"370\" y=\"-334.8\" font-family=\"Helvetica,sans-Serif\" font-size=\"14.00\">class = versicolor</text>\n",
       "</g>\n",
       "<!-- 2&#45;&gt;3 -->\n",
       "<g id=\"edge3\" class=\"edge\">\n",
       "<title>2&#45;&gt;3</title>\n",
       "<path fill=\"none\" stroke=\"black\" d=\"M499.62,-441.77C490.19,-432.58 480.02,-422.68 470.29,-413.2\"/>\n",
       "<polygon fill=\"black\" stroke=\"black\" points=\"472.56,-410.53 462.96,-406.06 467.68,-415.54 472.56,-410.53\"/>\n",
       "</g>\n",
       "<!-- 12 -->\n",
       "<g id=\"node13\" class=\"node\">\n",
       "<title>12</title>\n",
       "<path fill=\"#843de6\" stroke=\"black\" d=\"M723.36,-406C723.36,-406 584.4,-406 584.4,-406 578.4,-406 572.4,-400 572.4,-394 572.4,-394 572.4,-340 572.4,-340 572.4,-334 578.4,-328 584.4,-328 584.4,-328 723.36,-328 723.36,-328 729.36,-328 735.36,-334 735.36,-340 735.36,-340 735.36,-394 735.36,-394 735.36,-400 729.36,-406 723.36,-406\"/>\n",
       "<text text-anchor=\"start\" x=\"580.39\" y=\"-390.8\" font-family=\"Helvetica,sans-Serif\" font-size=\"14.00\">petal length (cm) ≤ 4.85</text>\n",
       "<text text-anchor=\"start\" x=\"617.49\" y=\"-376.8\" font-family=\"Helvetica,sans-Serif\" font-size=\"14.00\">gini = 0.043</text>\n",
       "<text text-anchor=\"start\" x=\"612.05\" y=\"-362.8\" font-family=\"Helvetica,sans-Serif\" font-size=\"14.00\">samples = 46</text>\n",
       "<text text-anchor=\"start\" x=\"601.92\" y=\"-348.8\" font-family=\"Helvetica,sans-Serif\" font-size=\"14.00\">value = [0, 1, 45]</text>\n",
       "<text text-anchor=\"start\" x=\"604.28\" y=\"-334.8\" font-family=\"Helvetica,sans-Serif\" font-size=\"14.00\">class = virginica</text>\n",
       "</g>\n",
       "<!-- 2&#45;&gt;12 -->\n",
       "<g id=\"edge12\" class=\"edge\">\n",
       "<title>2&#45;&gt;12</title>\n",
       "<path fill=\"none\" stroke=\"black\" d=\"M578.13,-441.77C587.57,-432.58 597.74,-422.68 607.47,-413.2\"/>\n",
       "<polygon fill=\"black\" stroke=\"black\" points=\"610.08,-415.54 614.8,-406.06 605.19,-410.53 610.08,-415.54\"/>\n",
       "</g>\n",
       "<!-- 4 -->\n",
       "<g id=\"node5\" class=\"node\">\n",
       "<title>4</title>\n",
       "<path fill=\"#3de684\" stroke=\"black\" d=\"M265.4,-292C265.4,-292 132.36,-292 132.36,-292 126.36,-292 120.36,-286 120.36,-280 120.36,-280 120.36,-226 120.36,-226 120.36,-220 126.36,-214 132.36,-214 132.36,-214 265.4,-214 265.4,-214 271.4,-214 277.4,-220 277.4,-226 277.4,-226 277.4,-280 277.4,-280 277.4,-286 271.4,-292 265.4,-292\"/>\n",
       "<text text-anchor=\"start\" x=\"128.12\" y=\"-276.8\" font-family=\"Helvetica,sans-Serif\" font-size=\"14.00\">petal width (cm) ≤ 1.65</text>\n",
       "<text text-anchor=\"start\" x=\"162.49\" y=\"-262.8\" font-family=\"Helvetica,sans-Serif\" font-size=\"14.00\">gini = 0.041</text>\n",
       "<text text-anchor=\"start\" x=\"157.05\" y=\"-248.8\" font-family=\"Helvetica,sans-Serif\" font-size=\"14.00\">samples = 48</text>\n",
       "<text text-anchor=\"start\" x=\"146.92\" y=\"-234.8\" font-family=\"Helvetica,sans-Serif\" font-size=\"14.00\">value = [0, 47, 1]</text>\n",
       "<text text-anchor=\"start\" x=\"145\" y=\"-220.8\" font-family=\"Helvetica,sans-Serif\" font-size=\"14.00\">class = versicolor</text>\n",
       "</g>\n",
       "<!-- 3&#45;&gt;4 -->\n",
       "<g id=\"edge4\" class=\"edge\">\n",
       "<title>3&#45;&gt;4</title>\n",
       "<path fill=\"none\" stroke=\"black\" d=\"M347.39,-327.93C327.19,-317.87 305.26,-306.96 284.61,-296.68\"/>\n",
       "<polygon fill=\"black\" stroke=\"black\" points=\"286.05,-293.48 275.54,-292.16 282.93,-299.75 286.05,-293.48\"/>\n",
       "</g>\n",
       "<!-- 7 -->\n",
       "<g id=\"node8\" class=\"node\">\n",
       "<title>7</title>\n",
       "<path fill=\"#c09cf2\" stroke=\"black\" d=\"M490.4,-292C490.4,-292 357.36,-292 357.36,-292 351.36,-292 345.36,-286 345.36,-280 345.36,-280 345.36,-226 345.36,-226 345.36,-220 351.36,-214 357.36,-214 357.36,-214 490.4,-214 490.4,-214 496.4,-214 502.4,-220 502.4,-226 502.4,-226 502.4,-280 502.4,-280 502.4,-286 496.4,-292 490.4,-292\"/>\n",
       "<text text-anchor=\"start\" x=\"353.12\" y=\"-276.8\" font-family=\"Helvetica,sans-Serif\" font-size=\"14.00\">petal width (cm) ≤ 1.55</text>\n",
       "<text text-anchor=\"start\" x=\"387.49\" y=\"-262.8\" font-family=\"Helvetica,sans-Serif\" font-size=\"14.00\">gini = 0.444</text>\n",
       "<text text-anchor=\"start\" x=\"385.94\" y=\"-248.8\" font-family=\"Helvetica,sans-Serif\" font-size=\"14.00\">samples = 6</text>\n",
       "<text text-anchor=\"start\" x=\"375.82\" y=\"-234.8\" font-family=\"Helvetica,sans-Serif\" font-size=\"14.00\">value = [0, 2, 4]</text>\n",
       "<text text-anchor=\"start\" x=\"374.28\" y=\"-220.8\" font-family=\"Helvetica,sans-Serif\" font-size=\"14.00\">class = virginica</text>\n",
       "</g>\n",
       "<!-- 3&#45;&gt;7 -->\n",
       "<g id=\"edge7\" class=\"edge\">\n",
       "<title>3&#45;&gt;7</title>\n",
       "<path fill=\"none\" stroke=\"black\" d=\"M423.88,-327.77C423.88,-319.57 423.88,-310.8 423.88,-302.28\"/>\n",
       "<polygon fill=\"black\" stroke=\"black\" points=\"427.38,-302.06 423.88,-292.06 420.38,-302.06 427.38,-302.06\"/>\n",
       "</g>\n",
       "<!-- 5 -->\n",
       "<g id=\"node6\" class=\"node\">\n",
       "<title>5</title>\n",
       "<path fill=\"#39e581\" stroke=\"black\" d=\"M111.63,-171C111.63,-171 12.12,-171 12.12,-171 6.12,-171 0.12,-165 0.12,-159 0.12,-159 0.12,-119 0.12,-119 0.12,-113 6.12,-107 12.12,-107 12.12,-107 111.63,-107 111.63,-107 117.63,-107 123.63,-113 123.63,-119 123.63,-119 123.63,-159 123.63,-159 123.63,-165 117.63,-171 111.63,-171\"/>\n",
       "<text text-anchor=\"start\" x=\"33.27\" y=\"-155.8\" font-family=\"Helvetica,sans-Serif\" font-size=\"14.00\">gini = 0.0</text>\n",
       "<text text-anchor=\"start\" x=\"20.05\" y=\"-141.8\" font-family=\"Helvetica,sans-Serif\" font-size=\"14.00\">samples = 47</text>\n",
       "<text text-anchor=\"start\" x=\"9.92\" y=\"-127.8\" font-family=\"Helvetica,sans-Serif\" font-size=\"14.00\">value = [0, 47, 0]</text>\n",
       "<text text-anchor=\"start\" x=\"8\" y=\"-113.8\" font-family=\"Helvetica,sans-Serif\" font-size=\"14.00\">class = versicolor</text>\n",
       "</g>\n",
       "<!-- 4&#45;&gt;5 -->\n",
       "<g id=\"edge5\" class=\"edge\">\n",
       "<title>4&#45;&gt;5</title>\n",
       "<path fill=\"none\" stroke=\"black\" d=\"M152.11,-213.77C137.72,-202.01 121.91,-189.08 107.59,-177.37\"/>\n",
       "<polygon fill=\"black\" stroke=\"black\" points=\"109.77,-174.63 99.81,-171.01 105.34,-180.05 109.77,-174.63\"/>\n",
       "</g>\n",
       "<!-- 6 -->\n",
       "<g id=\"node7\" class=\"node\">\n",
       "<title>6</title>\n",
       "<path fill=\"#8139e5\" stroke=\"black\" d=\"M244.58,-171C244.58,-171 153.17,-171 153.17,-171 147.17,-171 141.17,-165 141.17,-159 141.17,-159 141.17,-119 141.17,-119 141.17,-113 147.17,-107 153.17,-107 153.17,-107 244.58,-107 244.58,-107 250.58,-107 256.58,-113 256.58,-119 256.58,-119 256.58,-159 256.58,-159 256.58,-165 250.58,-171 244.58,-171\"/>\n",
       "<text text-anchor=\"start\" x=\"170.27\" y=\"-155.8\" font-family=\"Helvetica,sans-Serif\" font-size=\"14.00\">gini = 0.0</text>\n",
       "<text text-anchor=\"start\" x=\"160.94\" y=\"-141.8\" font-family=\"Helvetica,sans-Serif\" font-size=\"14.00\">samples = 1</text>\n",
       "<text text-anchor=\"start\" x=\"150.82\" y=\"-127.8\" font-family=\"Helvetica,sans-Serif\" font-size=\"14.00\">value = [0, 0, 1]</text>\n",
       "<text text-anchor=\"start\" x=\"149.28\" y=\"-113.8\" font-family=\"Helvetica,sans-Serif\" font-size=\"14.00\">class = virginica</text>\n",
       "</g>\n",
       "<!-- 4&#45;&gt;6 -->\n",
       "<g id=\"edge6\" class=\"edge\">\n",
       "<title>4&#45;&gt;6</title>\n",
       "<path fill=\"none\" stroke=\"black\" d=\"M198.88,-213.77C198.88,-203.31 198.88,-191.94 198.88,-181.32\"/>\n",
       "<polygon fill=\"black\" stroke=\"black\" points=\"202.38,-181.01 198.88,-171.01 195.38,-181.01 202.38,-181.01\"/>\n",
       "</g>\n",
       "<!-- 8 -->\n",
       "<g id=\"node9\" class=\"node\">\n",
       "<title>8</title>\n",
       "<path fill=\"#8139e5\" stroke=\"black\" d=\"M377.58,-171C377.58,-171 286.17,-171 286.17,-171 280.17,-171 274.17,-165 274.17,-159 274.17,-159 274.17,-119 274.17,-119 274.17,-113 280.17,-107 286.17,-107 286.17,-107 377.58,-107 377.58,-107 383.58,-107 389.58,-113 389.58,-119 389.58,-119 389.58,-159 389.58,-159 389.58,-165 383.58,-171 377.58,-171\"/>\n",
       "<text text-anchor=\"start\" x=\"303.27\" y=\"-155.8\" font-family=\"Helvetica,sans-Serif\" font-size=\"14.00\">gini = 0.0</text>\n",
       "<text text-anchor=\"start\" x=\"293.94\" y=\"-141.8\" font-family=\"Helvetica,sans-Serif\" font-size=\"14.00\">samples = 3</text>\n",
       "<text text-anchor=\"start\" x=\"283.82\" y=\"-127.8\" font-family=\"Helvetica,sans-Serif\" font-size=\"14.00\">value = [0, 0, 3]</text>\n",
       "<text text-anchor=\"start\" x=\"282.28\" y=\"-113.8\" font-family=\"Helvetica,sans-Serif\" font-size=\"14.00\">class = virginica</text>\n",
       "</g>\n",
       "<!-- 7&#45;&gt;8 -->\n",
       "<g id=\"edge8\" class=\"edge\">\n",
       "<title>7&#45;&gt;8</title>\n",
       "<path fill=\"none\" stroke=\"black\" d=\"M392.47,-213.77C383.26,-202.55 373.17,-190.27 363.92,-179\"/>\n",
       "<polygon fill=\"black\" stroke=\"black\" points=\"366.4,-176.52 357.35,-171.01 360.99,-180.96 366.4,-176.52\"/>\n",
       "</g>\n",
       "<!-- 9 -->\n",
       "<g id=\"node10\" class=\"node\">\n",
       "<title>9</title>\n",
       "<path fill=\"#9cf2c0\" stroke=\"black\" d=\"M561.97,-178C561.97,-178 419.79,-178 419.79,-178 413.79,-178 407.79,-172 407.79,-166 407.79,-166 407.79,-112 407.79,-112 407.79,-106 413.79,-100 419.79,-100 419.79,-100 561.97,-100 561.97,-100 567.97,-100 573.97,-106 573.97,-112 573.97,-112 573.97,-166 573.97,-166 573.97,-172 567.97,-178 561.97,-178\"/>\n",
       "<text text-anchor=\"start\" x=\"415.83\" y=\"-162.8\" font-family=\"Helvetica,sans-Serif\" font-size=\"14.00\">sepal length (cm) ≤ 6.95</text>\n",
       "<text text-anchor=\"start\" x=\"454.49\" y=\"-148.8\" font-family=\"Helvetica,sans-Serif\" font-size=\"14.00\">gini = 0.444</text>\n",
       "<text text-anchor=\"start\" x=\"452.94\" y=\"-134.8\" font-family=\"Helvetica,sans-Serif\" font-size=\"14.00\">samples = 3</text>\n",
       "<text text-anchor=\"start\" x=\"442.82\" y=\"-120.8\" font-family=\"Helvetica,sans-Serif\" font-size=\"14.00\">value = [0, 2, 1]</text>\n",
       "<text text-anchor=\"start\" x=\"437\" y=\"-106.8\" font-family=\"Helvetica,sans-Serif\" font-size=\"14.00\">class = versicolor</text>\n",
       "</g>\n",
       "<!-- 7&#45;&gt;9 -->\n",
       "<g id=\"edge9\" class=\"edge\">\n",
       "<title>7&#45;&gt;9</title>\n",
       "<path fill=\"none\" stroke=\"black\" d=\"M446.75,-213.77C451.92,-205.12 457.47,-195.84 462.83,-186.88\"/>\n",
       "<polygon fill=\"black\" stroke=\"black\" points=\"465.98,-188.44 468.11,-178.06 459.97,-184.84 465.98,-188.44\"/>\n",
       "</g>\n",
       "<!-- 10 -->\n",
       "<g id=\"node11\" class=\"node\">\n",
       "<title>10</title>\n",
       "<path fill=\"#39e581\" stroke=\"black\" d=\"M471.63,-64C471.63,-64 372.12,-64 372.12,-64 366.12,-64 360.12,-58 360.12,-52 360.12,-52 360.12,-12 360.12,-12 360.12,-6 366.12,0 372.12,0 372.12,0 471.63,0 471.63,0 477.63,0 483.63,-6 483.63,-12 483.63,-12 483.63,-52 483.63,-52 483.63,-58 477.63,-64 471.63,-64\"/>\n",
       "<text text-anchor=\"start\" x=\"393.27\" y=\"-48.8\" font-family=\"Helvetica,sans-Serif\" font-size=\"14.00\">gini = 0.0</text>\n",
       "<text text-anchor=\"start\" x=\"383.94\" y=\"-34.8\" font-family=\"Helvetica,sans-Serif\" font-size=\"14.00\">samples = 2</text>\n",
       "<text text-anchor=\"start\" x=\"373.82\" y=\"-20.8\" font-family=\"Helvetica,sans-Serif\" font-size=\"14.00\">value = [0, 2, 0]</text>\n",
       "<text text-anchor=\"start\" x=\"368\" y=\"-6.8\" font-family=\"Helvetica,sans-Serif\" font-size=\"14.00\">class = versicolor</text>\n",
       "</g>\n",
       "<!-- 9&#45;&gt;10 -->\n",
       "<g id=\"edge10\" class=\"edge\">\n",
       "<title>9&#45;&gt;10</title>\n",
       "<path fill=\"none\" stroke=\"black\" d=\"M465.77,-99.8C459.93,-90.91 453.7,-81.43 447.83,-72.49\"/>\n",
       "<polygon fill=\"black\" stroke=\"black\" points=\"450.74,-70.55 442.33,-64.12 444.89,-74.4 450.74,-70.55\"/>\n",
       "</g>\n",
       "<!-- 11 -->\n",
       "<g id=\"node12\" class=\"node\">\n",
       "<title>11</title>\n",
       "<path fill=\"#8139e5\" stroke=\"black\" d=\"M604.58,-64C604.58,-64 513.17,-64 513.17,-64 507.17,-64 501.17,-58 501.17,-52 501.17,-52 501.17,-12 501.17,-12 501.17,-6 507.17,0 513.17,0 513.17,0 604.58,0 604.58,0 610.58,0 616.58,-6 616.58,-12 616.58,-12 616.58,-52 616.58,-52 616.58,-58 610.58,-64 604.58,-64\"/>\n",
       "<text text-anchor=\"start\" x=\"530.27\" y=\"-48.8\" font-family=\"Helvetica,sans-Serif\" font-size=\"14.00\">gini = 0.0</text>\n",
       "<text text-anchor=\"start\" x=\"520.94\" y=\"-34.8\" font-family=\"Helvetica,sans-Serif\" font-size=\"14.00\">samples = 1</text>\n",
       "<text text-anchor=\"start\" x=\"510.82\" y=\"-20.8\" font-family=\"Helvetica,sans-Serif\" font-size=\"14.00\">value = [0, 0, 1]</text>\n",
       "<text text-anchor=\"start\" x=\"509.28\" y=\"-6.8\" font-family=\"Helvetica,sans-Serif\" font-size=\"14.00\">class = virginica</text>\n",
       "</g>\n",
       "<!-- 9&#45;&gt;11 -->\n",
       "<g id=\"edge11\" class=\"edge\">\n",
       "<title>9&#45;&gt;11</title>\n",
       "<path fill=\"none\" stroke=\"black\" d=\"M515.62,-99.8C521.32,-91 527.39,-81.63 533.12,-72.76\"/>\n",
       "<polygon fill=\"black\" stroke=\"black\" points=\"536.23,-74.41 538.73,-64.12 530.35,-70.61 536.23,-74.41\"/>\n",
       "</g>\n",
       "<!-- 13 -->\n",
       "<g id=\"node14\" class=\"node\">\n",
       "<title>13</title>\n",
       "<path fill=\"#c09cf2\" stroke=\"black\" d=\"M724.97,-292C724.97,-292 582.79,-292 582.79,-292 576.79,-292 570.79,-286 570.79,-280 570.79,-280 570.79,-226 570.79,-226 570.79,-220 576.79,-214 582.79,-214 582.79,-214 724.97,-214 724.97,-214 730.97,-214 736.97,-220 736.97,-226 736.97,-226 736.97,-280 736.97,-280 736.97,-286 730.97,-292 724.97,-292\"/>\n",
       "<text text-anchor=\"start\" x=\"578.83\" y=\"-276.8\" font-family=\"Helvetica,sans-Serif\" font-size=\"14.00\">sepal length (cm) ≤ 5.95</text>\n",
       "<text text-anchor=\"start\" x=\"617.49\" y=\"-262.8\" font-family=\"Helvetica,sans-Serif\" font-size=\"14.00\">gini = 0.444</text>\n",
       "<text text-anchor=\"start\" x=\"615.94\" y=\"-248.8\" font-family=\"Helvetica,sans-Serif\" font-size=\"14.00\">samples = 3</text>\n",
       "<text text-anchor=\"start\" x=\"605.82\" y=\"-234.8\" font-family=\"Helvetica,sans-Serif\" font-size=\"14.00\">value = [0, 1, 2]</text>\n",
       "<text text-anchor=\"start\" x=\"604.28\" y=\"-220.8\" font-family=\"Helvetica,sans-Serif\" font-size=\"14.00\">class = virginica</text>\n",
       "</g>\n",
       "<!-- 12&#45;&gt;13 -->\n",
       "<g id=\"edge13\" class=\"edge\">\n",
       "<title>12&#45;&gt;13</title>\n",
       "<path fill=\"none\" stroke=\"black\" d=\"M653.88,-327.77C653.88,-319.57 653.88,-310.8 653.88,-302.28\"/>\n",
       "<polygon fill=\"black\" stroke=\"black\" points=\"657.38,-302.06 653.88,-292.06 650.38,-302.06 657.38,-302.06\"/>\n",
       "</g>\n",
       "<!-- 16 -->\n",
       "<g id=\"node17\" class=\"node\">\n",
       "<title>16</title>\n",
       "<path fill=\"#8139e5\" stroke=\"black\" d=\"M862.78,-285C862.78,-285 766.97,-285 766.97,-285 760.97,-285 754.97,-279 754.97,-273 754.97,-273 754.97,-233 754.97,-233 754.97,-227 760.97,-221 766.97,-221 766.97,-221 862.78,-221 862.78,-221 868.78,-221 874.78,-227 874.78,-233 874.78,-233 874.78,-273 874.78,-273 874.78,-279 868.78,-285 862.78,-285\"/>\n",
       "<text text-anchor=\"start\" x=\"786.27\" y=\"-269.8\" font-family=\"Helvetica,sans-Serif\" font-size=\"14.00\">gini = 0.0</text>\n",
       "<text text-anchor=\"start\" x=\"773.05\" y=\"-255.8\" font-family=\"Helvetica,sans-Serif\" font-size=\"14.00\">samples = 43</text>\n",
       "<text text-anchor=\"start\" x=\"762.92\" y=\"-241.8\" font-family=\"Helvetica,sans-Serif\" font-size=\"14.00\">value = [0, 0, 43]</text>\n",
       "<text text-anchor=\"start\" x=\"765.28\" y=\"-227.8\" font-family=\"Helvetica,sans-Serif\" font-size=\"14.00\">class = virginica</text>\n",
       "</g>\n",
       "<!-- 12&#45;&gt;16 -->\n",
       "<g id=\"edge16\" class=\"edge\">\n",
       "<title>12&#45;&gt;16</title>\n",
       "<path fill=\"none\" stroke=\"black\" d=\"M708.83,-327.77C726.06,-315.79 745.02,-302.6 762.09,-290.72\"/>\n",
       "<polygon fill=\"black\" stroke=\"black\" points=\"764.09,-293.59 770.3,-285.01 760.09,-287.85 764.09,-293.59\"/>\n",
       "</g>\n",
       "<!-- 14 -->\n",
       "<g id=\"node15\" class=\"node\">\n",
       "<title>14</title>\n",
       "<path fill=\"#39e581\" stroke=\"black\" d=\"M703.63,-171C703.63,-171 604.12,-171 604.12,-171 598.12,-171 592.12,-165 592.12,-159 592.12,-159 592.12,-119 592.12,-119 592.12,-113 598.12,-107 604.12,-107 604.12,-107 703.63,-107 703.63,-107 709.63,-107 715.63,-113 715.63,-119 715.63,-119 715.63,-159 715.63,-159 715.63,-165 709.63,-171 703.63,-171\"/>\n",
       "<text text-anchor=\"start\" x=\"625.27\" y=\"-155.8\" font-family=\"Helvetica,sans-Serif\" font-size=\"14.00\">gini = 0.0</text>\n",
       "<text text-anchor=\"start\" x=\"615.94\" y=\"-141.8\" font-family=\"Helvetica,sans-Serif\" font-size=\"14.00\">samples = 1</text>\n",
       "<text text-anchor=\"start\" x=\"605.82\" y=\"-127.8\" font-family=\"Helvetica,sans-Serif\" font-size=\"14.00\">value = [0, 1, 0]</text>\n",
       "<text text-anchor=\"start\" x=\"600\" y=\"-113.8\" font-family=\"Helvetica,sans-Serif\" font-size=\"14.00\">class = versicolor</text>\n",
       "</g>\n",
       "<!-- 13&#45;&gt;14 -->\n",
       "<g id=\"edge14\" class=\"edge\">\n",
       "<title>13&#45;&gt;14</title>\n",
       "<path fill=\"none\" stroke=\"black\" d=\"M653.88,-213.77C653.88,-203.31 653.88,-191.94 653.88,-181.32\"/>\n",
       "<polygon fill=\"black\" stroke=\"black\" points=\"657.38,-181.01 653.88,-171.01 650.38,-181.01 657.38,-181.01\"/>\n",
       "</g>\n",
       "<!-- 15 -->\n",
       "<g id=\"node16\" class=\"node\">\n",
       "<title>15</title>\n",
       "<path fill=\"#8139e5\" stroke=\"black\" d=\"M836.58,-171C836.58,-171 745.17,-171 745.17,-171 739.17,-171 733.17,-165 733.17,-159 733.17,-159 733.17,-119 733.17,-119 733.17,-113 739.17,-107 745.17,-107 745.17,-107 836.58,-107 836.58,-107 842.58,-107 848.58,-113 848.58,-119 848.58,-119 848.58,-159 848.58,-159 848.58,-165 842.58,-171 836.58,-171\"/>\n",
       "<text text-anchor=\"start\" x=\"762.27\" y=\"-155.8\" font-family=\"Helvetica,sans-Serif\" font-size=\"14.00\">gini = 0.0</text>\n",
       "<text text-anchor=\"start\" x=\"752.94\" y=\"-141.8\" font-family=\"Helvetica,sans-Serif\" font-size=\"14.00\">samples = 2</text>\n",
       "<text text-anchor=\"start\" x=\"742.82\" y=\"-127.8\" font-family=\"Helvetica,sans-Serif\" font-size=\"14.00\">value = [0, 0, 2]</text>\n",
       "<text text-anchor=\"start\" x=\"741.28\" y=\"-113.8\" font-family=\"Helvetica,sans-Serif\" font-size=\"14.00\">class = virginica</text>\n",
       "</g>\n",
       "<!-- 13&#45;&gt;15 -->\n",
       "<g id=\"edge15\" class=\"edge\">\n",
       "<title>13&#45;&gt;15</title>\n",
       "<path fill=\"none\" stroke=\"black\" d=\"M700.64,-213.77C715.03,-202.01 730.85,-189.08 745.16,-177.37\"/>\n",
       "<polygon fill=\"black\" stroke=\"black\" points=\"747.42,-180.05 752.95,-171.01 742.99,-174.63 747.42,-180.05\"/>\n",
       "</g>\n",
       "</g>\n",
       "</svg>\n"
      ],
      "text/plain": [
       "<graphviz.files.Source at 0x11963cf50>"
      ]
     },
     "execution_count": 63,
     "metadata": {},
     "output_type": "execute_result"
    }
   ],
   "source": [
    "import graphviz\n",
    "\n",
    "dot_data = tree.export_graphviz(sklearn_clf, out_file=None, \n",
    "                                feature_names=iris.feature_names,  \n",
    "                                class_names=iris.target_names,  \n",
    "                                filled=True, rounded=True,  \n",
    "                                special_characters=True) \n",
    "graph = graphviz.Source(dot_data) \n",
    "graph"
   ]
  },
  {
   "cell_type": "code",
   "execution_count": null,
   "metadata": {},
   "outputs": [],
   "source": []
  }
 ],
 "metadata": {
  "kernelspec": {
   "display_name": "Python 3",
   "language": "python",
   "name": "python3"
  },
  "language_info": {
   "codemirror_mode": {
    "name": "ipython",
    "version": 3
   },
   "file_extension": ".py",
   "mimetype": "text/x-python",
   "name": "python",
   "nbconvert_exporter": "python",
   "pygments_lexer": "ipython3",
   "version": "3.7.6"
  }
 },
 "nbformat": 4,
 "nbformat_minor": 2
}
