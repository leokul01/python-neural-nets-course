{
 "cells": [
  {
   "cell_type": "markdown",
   "metadata": {},
   "source": [
    "Creating a binary decision tree is actually a process of dividing up the input space. A greedy approach is used to divide the space called recursive binary splitting. This is a numerical procedure where all the values are lined up and different split points are tried and tested using a cost function. The split with the best cost (lowest cost because we minimize cost) is selected. All input variables and all possible split points are evaluated and chosen in a greedy manner (e.g. the very best split point is chosen each time)."
   ]
  },
  {
   "cell_type": "code",
   "execution_count": 92,
   "metadata": {},
   "outputs": [],
   "source": [
    "import numpy as np\n",
    "\n",
    "X = np.array(\n",
    "    [[2.771244718, 1.784783929],\n",
    "    [1.728571309, 1.169761413],\n",
    "    [3.678319846, 2.81281357],\n",
    "    [3.961043357, 2.61995032],\n",
    "    [2.999208922, 2.209014212],\n",
    "    [7.497545867, 3.162953546],\n",
    "    [9.00220326, 3.339047188],\n",
    "    [7.444542326, 0.476683375],\n",
    "    [10.12493903, 3.234550982],\n",
    "    [6.642287351, 3.319983761]]\n",
    ")\n",
    "\n",
    "y = np.array([0, 0, 0, 0, 0, 1, 1, 1, 1, 1])\n",
    "\n",
    "data = np.concatenate((X, np.array([y]).T), axis=1)"
   ]
  },
  {
   "cell_type": "code",
   "execution_count": 76,
   "metadata": {},
   "outputs": [
    {
     "data": {
      "text/plain": [
       "array([[ 2.77124472,  1.78478393,  0.        ],\n",
       "       [ 1.72857131,  1.16976141,  0.        ],\n",
       "       [ 3.67831985,  2.81281357,  0.        ],\n",
       "       [ 3.96104336,  2.61995032,  0.        ],\n",
       "       [ 2.99920892,  2.20901421,  0.        ],\n",
       "       [ 7.49754587,  3.16295355,  1.        ],\n",
       "       [ 9.00220326,  3.33904719,  1.        ],\n",
       "       [ 7.44454233,  0.47668338,  1.        ],\n",
       "       [10.12493903,  3.23455098,  1.        ],\n",
       "       [ 6.64228735,  3.31998376,  1.        ]])"
      ]
     },
     "execution_count": 76,
     "metadata": {},
     "output_type": "execute_result"
    }
   ],
   "source": [
    "data"
   ]
  },
  {
   "cell_type": "code",
   "execution_count": 50,
   "metadata": {},
   "outputs": [
    {
     "data": {
      "text/plain": [
       "<matplotlib.legend.Legend at 0x11ad40550>"
      ]
     },
     "execution_count": 50,
     "metadata": {},
     "output_type": "execute_result"
    },
    {
     "data": {
      "image/png": "[encoded data removed]",
      "text/plain": [
       "<Figure size 432x288 with 1 Axes>"
      ]
     },
     "metadata": {
      "needs_background": "light"
     },
     "output_type": "display_data"
    }
   ],
   "source": [
    "import matplotlib.pyplot as plt\n",
    "\n",
    "class1 = np.where(y == 0)[0]\n",
    "class2 = np.where(y == 1)[0]\n",
    "\n",
    "plt.scatter(X[class1, 0], X[class1, 1], c='b', label='0', marker='d')\n",
    "plt.scatter(X[class2, 0], X[class2, 1], c='r', label='1', marker='s')\n",
    "plt.legend(loc='best')"
   ]
  },
  {
   "cell_type": "code",
   "execution_count": 107,
   "metadata": {},
   "outputs": [],
   "source": [
    "# Tree\n",
    "# 0, 1 - листовой узел\n",
    "# split_point = (attribute_num, attribute_value)\n",
    "# (split_point, left_subtree, right_subtree)\n",
    "\n",
    "\n",
    "class CartDecisionTree:\n",
    "            \n",
    "        \n",
    "    def partition_by(self, split_point, data):\n",
    "        \"\"\"Get subsets from data splitted by split_point\"\"\"\n",
    "        attribute_num, attribute_val = split_point\n",
    "        left_subset = np.array([d for d in data if d[attribute_num] < attribute_val])\n",
    "        right_subset = np.array([d for d in data if d[attribute_num] >= attribute_val])\n",
    "        \n",
    "        return left_subset, right_subset\n",
    "    \n",
    "    \n",
    "    def find_class_shares(self, split_point, data):\n",
    "        \"\"\"Find shares of classes in left and right subsets built upon split_point\"\"\"\n",
    "        left_subset, right_subset = self.partition_by(split_point, data)\n",
    "        \n",
    "        left_class_shares = (\n",
    "            len([d for d in left_subset if not d[-1]]) / len(left_subset),\n",
    "            len([d for d in left_subset if d[-1]]) / len(left_subset)\n",
    "        ) if len(left_subset) > 0 else (np.nan, np.nan)\n",
    "        \n",
    "        right_class_shares = (\n",
    "            len([d for d in right_subset if not d[-1]]) / len(right_subset),\n",
    "            len([d for d in right_subset if d[-1]]) / len(right_subset)\n",
    "        ) if len(right_subset) > 0 else (np.nan, np.nan)\n",
    "        \n",
    "        return left_class_shares, right_class_shares\n",
    "    \n",
    "    \n",
    "    def gini_cost(self, split_point, data):\n",
    "        \"\"\"Cost function for classification trees\"\"\"\n",
    "        left_class_shares, right_class_shares = self.find_class_shares(split_point, data)\n",
    "        return sum(l * (1 - l) + r * (1 - r) for l, r in zip(left_class_shares, right_class_shares))\n",
    "    \n",
    "    \n",
    "    def find_best_split_point(self, data):\n",
    "        \"\"\"Find best split point in data\"\"\"\n",
    "        best_gini = np.inf\n",
    "        best_split_point = None\n",
    "        \n",
    "        for x in data[:, :-1]:\n",
    "            for attribute_num, attribute_value in enumerate(x):\n",
    "                split_point = attribute_num, attribute_value\n",
    "                gini = self.gini_cost(split_point, data)\n",
    "                \n",
    "                # Edge case\n",
    "                if np.isnan(gini): continue\n",
    "                \n",
    "                if gini < best_gini:\n",
    "                    best_split_point = split_point\n",
    "                    best_gini = gini\n",
    "        \n",
    "        assert best_split_point is not None, 'Internal error: best split point is not found'\n",
    "        \n",
    "        return best_split_point\n",
    "    \n",
    "    \n",
    "    def build_tree(self, data):\n",
    "        data_count = len(data)\n",
    "        one_class_count = len([d for d in data if d[-1]])\n",
    "        zero_class_count = data_count - one_class_count\n",
    "        \n",
    "        if one_class_count == 0: return 0\n",
    "        if zero_class_count == 0: return 1\n",
    "        \n",
    "        split_point = self.find_best_split_point(data)\n",
    "        left_subset, right_subset = self.partition_by(split_point, data)\n",
    "        left_subtree, right_subtree = self.build_tree(left_subset), self.build_tree(right_subset)\n",
    "        \n",
    "        return (split_point, left_subtree, right_subtree)\n",
    "                \n",
    "    \n",
    "    def fit(self, data):\n",
    "        self.tree = self.build_tree(data)\n",
    "    \n",
    "    \n",
    "    def predict(self, x, tree=None):\n",
    "        if tree is None:\n",
    "            tree = self.tree\n",
    "        \n",
    "        if tree in [0, 1]:\n",
    "            return tree\n",
    "        \n",
    "        split_point, left_subtree, right_subtree = tree\n",
    "        attribute_num, attribute_value = split_point\n",
    "\n",
    "        next_subtree = left_subtree if x[attribute_num] < attribute_value else right_subtree\n",
    "        \n",
    "        return self.predict(x, tree=next_subtree)"
   ]
  },
  {
   "cell_type": "code",
   "execution_count": 108,
   "metadata": {},
   "outputs": [
    {
     "name": "stdout",
     "output_type": "stream",
     "text": [
      "(0, 6.642287351) 0.0\n"
     ]
    }
   ],
   "source": [
    "clf = CartDecisionTree()\n",
    "clf.fit(data)"
   ]
  },
  {
   "cell_type": "code",
   "execution_count": 109,
   "metadata": {},
   "outputs": [
    {
     "data": {
      "text/plain": [
       "((0, 6.642287351), 0, 1)"
      ]
     },
     "execution_count": 109,
     "metadata": {},
     "output_type": "execute_result"
    }
   ],
   "source": [
    "clf.tree"
   ]
  },
  {
   "cell_type": "code",
   "execution_count": 111,
   "metadata": {},
   "outputs": [
    {
     "data": {
      "text/plain": [
       "True"
      ]
     },
     "execution_count": 111,
     "metadata": {},
     "output_type": "execute_result"
    }
   ],
   "source": [
    "y_pred = []\n",
    "\n",
    "for x in X:\n",
    "    y_pred.append(clf.predict(x))\n",
    "    \n",
    "np.allclose(y_pred, y)"
   ]
  },
  {
   "cell_type": "code",
   "execution_count": null,
   "metadata": {},
   "outputs": [],
   "source": []
  }
 ],
 "metadata": {
  "kernelspec": {
   "display_name": "Python 3",
   "language": "python",
   "name": "python3"
  },
  "language_info": {
   "codemirror_mode": {
    "name": "ipython",
    "version": 3
   },
   "file_extension": ".py",
   "mimetype": "text/x-python",
   "name": "python",
   "nbconvert_exporter": "python",
   "pygments_lexer": "ipython3",
   "version": "3.7.6"
  }
 },
 "nbformat": 4,
 "nbformat_minor": 2
}
