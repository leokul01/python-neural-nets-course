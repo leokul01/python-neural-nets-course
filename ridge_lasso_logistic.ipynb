{
 "cells": [
  {
   "cell_type": "markdown",
   "metadata": {},
   "source": [
    "## Regularization\n",
    "**Regularization** is the process of adding information in order to solve an ill-posed problem or to prevent overfitting.\n",
    "\n",
    "![alt-текст](images/overfitting.png)\n",
    "![alt-текст](images/overfitting_2.png)"
   ]
  },
  {
   "cell_type": "markdown",
   "metadata": {},
   "source": [
    "## Ridge regression\n",
    "\n",
    "While ordinary least squares regression is a good way to fit a linear model onto a dataset, it relies on the fact that the dataset's features are each independent, i.e. uncorrelated. When many of the dataset features are linearly correlated, e.g. if a dataset has multiple features depicting the same price in different currencies, it makes the least squares regression model highly sensitive to noise in the data.\n",
    "\n",
    "Because real life data tends to have noise, and will often have some linearly correlated features in the dataset, we combat this by performing regularization.\n",
    "\n",
    "For ordinary least squares regression, the goal is to find the weights (coefficients) for the linear model that minimize the sum of squared residuals:\n",
    "\n",
    "$$\n",
    "    \\sum\\limits_{i=1}^{n} (x_iw - y_i)^2\n",
    "$$\n",
    "\n",
    "where each xi represents a data observation and yi is the corresponding label.\n",
    "\n",
    "For regularization, the goal is to not only minimize the sum of squared residuals, but to do this with coefficients as small as possible. The smaller the coefficients, the less susceptible they are to random noise in the data. The most commonly used form of regularization is ridge regularization.\n",
    "\n",
    "With ridge regularization, the goal is now to find the weights that minimize the following quantity:\n",
    "\n",
    "$$\n",
    "    \\alpha \\Vert w \\Vert^2_2 + \\sum\\limits_{i=1}^{n} (x_iw - y_i)^2\n",
    "$$\n",
    "\n",
    "where α is a non-negative real number hyperparameter and ||w||2 represents the L2 norm of the weights. \n",
    "\n",
    "![alt-текст](images/ridge_vs_ols.png)"
   ]
  },
  {
   "cell_type": "code",
   "execution_count": 83,
   "metadata": {},
   "outputs": [],
   "source": [
    "from sklearn import linear_model\n",
    "from sklearn import datasets\n",
    "\n",
    "boston = datasets.load_boston()\n",
    "X = boston.data\n",
    "y = boston.target"
   ]
  },
  {
   "cell_type": "code",
   "execution_count": 84,
   "metadata": {},
   "outputs": [
    {
     "name": "stdout",
     "output_type": "stream",
     "text": [
      "0.7406426641094095\n",
      "[-1.08011358e-01  4.64204584e-02  2.05586264e-02  2.68673382e+00\n",
      " -1.77666112e+01  3.80986521e+00  6.92224640e-04 -1.47556685e+00\n",
      "  3.06049479e-01 -1.23345939e-02 -9.52747232e-01  9.31168327e-03\n",
      " -5.24758378e-01]\n"
     ]
    }
   ],
   "source": [
    "# OLS\n",
    "reg = linear_model.LinearRegression()\n",
    "reg.fit(X, y)\n",
    "print(reg.score(X, y))\n",
    "print(reg.coef_)"
   ]
  },
  {
   "cell_type": "code",
   "execution_count": 85,
   "metadata": {},
   "outputs": [
    {
     "name": "stdout",
     "output_type": "stream",
     "text": [
      "0.7406002922228037\n",
      "[-1.07473720e-01  4.65716366e-02  1.59989982e-02  2.67001859e+00\n",
      " -1.66846452e+01  3.81823322e+00 -2.69060598e-04 -1.45962557e+00\n",
      "  3.03515266e-01 -1.24205910e-02 -9.40758541e-01  9.36807461e-03\n",
      " -5.25966203e-01]\n"
     ]
    }
   ],
   "source": [
    "# Ridge\n",
    "reg = linear_model.Ridge(alpha=0.1)\n",
    "reg.fit(X, y)\n",
    "print(reg.score(X, y))\n",
    "print(reg.coef_)"
   ]
  },
  {
   "cell_type": "markdown",
   "metadata": {},
   "source": [
    "## Lasso regression\n",
    "\n",
    "Only difference between Ridge and Lasso:\n",
    "$$\n",
    "    \\alpha \\Vert w \\Vert^2_1 + \\sum\\limits_{i=1}^{n} (x_iw - y_i)^2\n",
    "$$\n",
    "\n",
    "LASSO regularization tends to prefer linear models with fewer parameter values. This means that it will likely zero-out some of the weight coefficients. This reduces the number of features that the model is actually dependent on (since some of the coefficients will now be 0), which can be beneficial when some features are completely irrelevant or duplicates of other features."
   ]
  },
  {
   "cell_type": "code",
   "execution_count": 86,
   "metadata": {},
   "outputs": [
    {
     "name": "stdout",
     "output_type": "stream",
     "text": [
      "0.7269834862602695\n",
      "[-0.09789363  0.04921111 -0.03661906  0.95519003 -0.          3.70320175\n",
      " -0.01003698 -1.16053834  0.27470721 -0.01457017 -0.77065434  0.01024917\n",
      " -0.56876914]\n"
     ]
    }
   ],
   "source": [
    "# Lasso\n",
    "reg = linear_model.Lasso(alpha=0.1)\n",
    "reg.fit(X, y)\n",
    "print(reg.score(X, y))\n",
    "print(reg.coef_)"
   ]
  },
  {
   "cell_type": "markdown",
   "metadata": {},
   "source": [
    "## Logistic regression\n",
    "\n",
    "In statistics, the logistic model (or logit model) is used to model the probability of a certain class or event existing such as pass/fail, win/lose, alive/dead or healthy/sick. This can be extended to model several classes of events such as determining whether an image contains a cat, dog, lion, etc. Each object being detected in the image would be assigned a probability between 0 and 1 and the sum adding to one.\n",
    "\n",
    "![alt-текст](images/log_reg.jpg)"
   ]
  },
  {
   "cell_type": "code",
   "execution_count": 95,
   "metadata": {},
   "outputs": [],
   "source": [
    "import numpy as np\n",
    "\n",
    "# Logistic function aka sigmoid\n",
    "def logistic(x):\n",
    "    return 1.0 / (1 + np.exp(-x))"
   ]
  },
  {
   "cell_type": "code",
   "execution_count": 88,
   "metadata": {},
   "outputs": [
    {
     "data": {
      "image/png": "[encoded data removed]",
      "text/plain": [
       "<Figure size 432x288 with 1 Axes>"
      ]
     },
     "metadata": {
      "needs_background": "light"
     },
     "output_type": "display_data"
    }
   ],
   "source": [
    "# Lets look at it\n",
    "import matplotlib.pyplot as plt\n",
    "\n",
    "X = np.linspace(-6, 6, 1000)\n",
    "y = [logistic(x) for x in X]\n",
    "\n",
    "plt.plot(X, y, label='Sigmoid')\n",
    "plt.xlabel('X')\n",
    "plt.ylabel('logistic(X)')\n",
    "plt.grid()\n",
    "plt.legend()\n",
    "plt.show()"
   ]
  },
  {
   "cell_type": "markdown",
   "metadata": {},
   "source": [
    "Model we will predict, described as:\n",
    "$$\n",
    "    y_i = f(x_i, \\beta) + \\varepsilon_i\n",
    "$$\n",
    "\n",
    "In case of OLS we minimize residual sum of squares (RSS):\n",
    "$$\n",
    "    \\varepsilon_i^2 = \\sum\\limits_{i=1}^{n} (y_i - f(x_i, \\beta))^2\n",
    "$$\n",
    "\n",
    "Here we will do the same procedure using gradient descent method.\n",
    "![alt-текст](images/grad_desc.jpg)"
   ]
  },
  {
   "cell_type": "markdown",
   "metadata": {},
   "source": [
    "According to our model, given beta y_i equals 1 with p = f(x_i, beta) and 0 with q = 1 - f(x_i, beta)\n",
    "\n",
    "So we can write down the probability density function:\n",
    "\n",
    "$$\n",
    "    p(y_i \\ | \\ x_i, \\beta) = f(x_i, \\beta)^{y_i} \\ (1 - f(x_i, \\beta))^{1-y_i}\n",
    "$$\n",
    "\n",
    "We usually call **p** as likelihood.\n",
    "\n",
    "$$\n",
    "    L(y_i \\ | \\ x_i, \\beta) = p(y_i \\ | \\ x_i, \\beta)\n",
    "$$\n",
    "\n",
    "It is simpler to maximize not the likelihood itself but the logarithm of likelihood because of logarithm features.\n",
    "\n",
    "$$\n",
    "    lnL(y_i \\ | \\ x_i, \\beta) = y_i ln(f(x_i, \\beta)) + (1 - y_i) ln(1 - f(x_i, \\beta))\n",
    "$$"
   ]
  },
  {
   "cell_type": "code",
   "execution_count": 89,
   "metadata": {},
   "outputs": [],
   "source": [
    "def logistic_log_likelihood_i(x_i, y_i, beta):\n",
    "    # x_i - observation (i.e. vector with values for each feature)\n",
    "    if y_i == 1:\n",
    "        return np.log(logistic(np.dot(x_i, beta)))\n",
    "    else:\n",
    "        return np.log(1 - logistic(np.dot(x_i, beta)))\n",
    "    \n",
    "def logistic_log_likelihood(x, y, beta):\n",
    "    # x - the whole input\n",
    "    return sum(logistic_log_likelihood_i(x_i, y_i, beta)\n",
    "               for x_i, y_i in zip(x, y))\n",
    "\n",
    "def logistic_log_partial_ij(x_i, y_i, beta, j):\n",
    "    return (y_i - logistic(np.dot(x_i, beta))) * x_i[j]\n",
    "\n",
    "def logistic_log_gradient_i(x_i, y_i, beta):\n",
    "    return np.array([logistic_log_partial_ij(x_i, y_i, beta, j) for j, _ in enumerate(beta)])\n",
    "\n",
    "def logistic_log_gradient(x, y, beta):\n",
    "    all_gradients = np.array([logistic_log_gradient_i(x_i, y_i, beta) for x_i, y_i in zip(x, y)])\n",
    "    return np.sum(all_gradients, axis=0)"
   ]
  },
  {
   "cell_type": "code",
   "execution_count": 90,
   "metadata": {},
   "outputs": [],
   "source": [
    "# Some stuff for gradient descent\n",
    "\n",
    "def step(v, direction, step_size):\n",
    "#     print(type(v), v)\n",
    "#     print(type(direction), direction)\n",
    "    return v + step_size * direction\n",
    "\n",
    "def minimize_batch(fn, gradient_fn, beta_0, tolerance=0.01):\n",
    "    step_size = 0.1\n",
    "    beta = beta_0\n",
    "    value = fn(beta)\n",
    "    \n",
    "    while True:\n",
    "        gradient = gradient_fn(beta)\n",
    "        next_beta = step(beta, gradient, -step_size)\n",
    "        next_value = fn(next_beta)\n",
    "        \n",
    "        if abs(value - next_value) < tolerance:\n",
    "            return beta\n",
    "        else:\n",
    "            beta, value = next_beta, next_value\n",
    "            \n",
    "def negate(f):\n",
    "    return lambda *args, **kwargs: -f(*args, **kwargs)\n",
    "\n",
    "def maximize_batch(fn, gradient_fn, beta_0, tolerance=0.0001):\n",
    "    return minimize_batch(negate(fn), negate(gradient_fn), beta_0, tolerance)"
   ]
  },
  {
   "cell_type": "code",
   "execution_count": 96,
   "metadata": {},
   "outputs": [],
   "source": [
    "from sklearn.model_selection import train_test_split\n",
    "\n",
    "data = np.array([\n",
    "  [1, 0],\n",
    "  [1, 1],\n",
    "  [1, 2.2],\n",
    "  [1, 3.9],\n",
    "  [1, 4.1],\n",
    "  [1, 5.3],\n",
    "  [1, 7.0],\n",
    "  [1, 8]])\n",
    "\n",
    "labels = np.array(\n",
    "  [0, 0, 0, 0, 1, 1, 1, 1])\n",
    "\n",
    "X_train, X_test, y_train, y_test = train_test_split(data, labels, test_size=0.2)"
   ]
  },
  {
   "cell_type": "code",
   "execution_count": 98,
   "metadata": {},
   "outputs": [],
   "source": [
    "from functools import partial\n",
    "\n",
    "# We need to maximize log likelihood\n",
    "fn = partial(logistic_log_likelihood, X_train, y_train)\n",
    "gradient_fn = partial(logistic_log_gradient, X_train, y_train)\n",
    "\n",
    "beta_0 = np.random.rand(2)\n",
    "\n",
    "beta_hat = maximize_batch(fn, gradient_fn, beta_0)"
   ]
  },
  {
   "cell_type": "code",
   "execution_count": 99,
   "metadata": {},
   "outputs": [
    {
     "data": {
      "text/plain": [
       "array([-8.8614562 ,  2.22157877])"
      ]
     },
     "execution_count": 99,
     "metadata": {},
     "output_type": "execute_result"
    }
   ],
   "source": [
    "beta_hat"
   ]
  },
  {
   "cell_type": "code",
   "execution_count": 104,
   "metadata": {},
   "outputs": [
    {
     "data": {
      "text/plain": [
       "0.00014172841043042327"
      ]
     },
     "execution_count": 104,
     "metadata": {},
     "output_type": "execute_result"
    }
   ],
   "source": [
    "logistic(np.dot(beta_hat, np.array([1, 0])))"
   ]
  },
  {
   "cell_type": "code",
   "execution_count": 103,
   "metadata": {},
   "outputs": [
    {
     "data": {
      "text/plain": [
       "0.999865144782208"
      ]
     },
     "execution_count": 103,
     "metadata": {},
     "output_type": "execute_result"
    }
   ],
   "source": [
    "logistic(np.dot(beta_hat, np.array([1, 8])))"
   ]
  },
  {
   "cell_type": "code",
   "execution_count": 106,
   "metadata": {},
   "outputs": [],
   "source": [
    "def mean_squared_error(test_labels, predicted_labels):\n",
    "    return np.sum([(pl - tl) ** 2 for pl, tl in zip(predicted_labels, test_labels)]) / len(test_labels)"
   ]
  },
  {
   "cell_type": "code",
   "execution_count": 107,
   "metadata": {},
   "outputs": [
    {
     "data": {
      "text/plain": [
       "0.0013271132434006946"
      ]
     },
     "execution_count": 107,
     "metadata": {},
     "output_type": "execute_result"
    }
   ],
   "source": [
    "y_pred = np.array([logistic(np.dot(beta_hat, np.array(x))) for x in X_test])\n",
    "mean_squared_error(y_test, y_pred)"
   ]
  },
  {
   "cell_type": "code",
   "execution_count": null,
   "metadata": {},
   "outputs": [],
   "source": []
  }
 ],
 "metadata": {
  "kernelspec": {
   "display_name": "Python 3",
   "language": "python",
   "name": "python3"
  },
  "language_info": {
   "codemirror_mode": {
    "name": "ipython",
    "version": 3
   },
   "file_extension": ".py",
   "mimetype": "text/x-python",
   "name": "python",
   "nbconvert_exporter": "python",
   "pygments_lexer": "ipython3",
   "version": "3.7.6"
  }
 },
 "nbformat": 4,
 "nbformat_minor": 2
}
