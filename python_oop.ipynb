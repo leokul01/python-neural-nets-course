{
 "cells": [
  {
   "cell_type": "markdown",
   "metadata": {},
   "source": [
    "**ООП** - методология программирования, основанная на представлении программы в виде совокупности объектов, каждый из которых является экземпляром определённого класса. Идеологически это позволяет создавать программы на качественно новом уровне (более дружелюбном для сознания человека)."
   ]
  },
  {
   "cell_type": "markdown",
   "metadata": {},
   "source": [
    "Предположим мы хотим описать в нашей программе человека. Как бы мы это делали без ООП?"
   ]
  },
  {
   "cell_type": "code",
   "execution_count": 1,
   "metadata": {},
   "outputs": [],
   "source": [
    "# Как вариант, можно создать кучу переменных и функций, которые описывают человека\n",
    "\n",
    "name = 'John'\n",
    "age = 25\n",
    "height = 172\n",
    "satiety = 50\n",
    "\n",
    "def eat(food):\n",
    "    if food == 'Pasta':\n",
    "        satiety += 10\n",
    "    elif food == 'Ice Cream':\n",
    "        satiety += 2\n",
    "    elif food == 'liver':\n",
    "        pass"
   ]
  },
  {
   "cell_type": "markdown",
   "metadata": {},
   "source": [
    "Но что если нам понадобится описать еще одного человека?  \n",
    "И если людей будет несколько, то как нужно изменить функцию **eat**, чтобы при ее вызове насыщался\n",
    "определенный человек."
   ]
  },
  {
   "cell_type": "markdown",
   "metadata": {},
   "source": [
    "Думаю вы согласны, что такой подход является ужасным:  \n",
    "* нужно придумывать кучу переменных\n",
    "* захлямляется глобальная область видимости\n",
    "* <span style=\"color:purple\">**не стильно**</span>"
   ]
  },
  {
   "cell_type": "markdown",
   "metadata": {},
   "source": [
    "Чтобы побороться с такой безвкусицей можно воспользоваться **ООП**.  \n",
    "Это стиль программирования, когда определенные сущности программы представляются в виде объектов,\n",
    "описываемых классами."
   ]
  },
  {
   "cell_type": "code",
   "execution_count": 25,
   "metadata": {},
   "outputs": [],
   "source": [
    "# Создадим макет гуманоида, по которому в дальнейшейм можно будет создать человека\n",
    "# Good practice: Классы именуются в CamelCase стиле\n",
    "class Human:\n",
    "    \"\"\"\n",
    "    Это docstring.\n",
    "    Сюда можно добавить текстовое описание класса (макета).\n",
    "    Это очень удобно, поскольку другие разработчики прочитав этот текст сразу поймут что к чему.\n",
    "    И как приятный бонус, в некоторых текстовых редакторах, этот текст добавляется в подсказки.\n",
    "    \"\"\"\n",
    "    \n",
    "    intolerance_to_liver = False  # Дефолтное поле\n",
    "    \n",
    "    # Метод класса, как правило, включает в себя первый параметр с именем self — экземпляр класса.\n",
    "    def eat(self, food):\n",
    "        if food == 'Pasta':\n",
    "            self.satiety += 10\n",
    "        elif food == 'Ice Cream':\n",
    "            self.satiety += 2\n",
    "        elif food == 'liver':\n",
    "            if self.intolerance_to_liver:\n",
    "                print('{} воздержался от приема пищи'.format(self.name))\n",
    "                # = print('%s воздержался от приема пищи' % self.name)\n",
    "                return\n",
    "            self.satiety += 5\n",
    "        else:\n",
    "            self.satiety += 7\n",
    "        \n",
    "        print(f'{self.name} поел {food}')  # = print(self.name + ' поел ' + food)\n",
    "\n",
    "    # Магический метод, который определяется для большинства классов\n",
    "    # Вызывается при инициализации объекта класса\n",
    "    # Магические методы - это заранее зарезервированные методы, которые определяют стандартный функционал\n",
    "    def __init__(self, name, age, height, satiety = 100):  # self - ссылка на объект, созданный по классу (макету)\n",
    "        self.name = name  # Поля создаются при первой записи в них\n",
    "        self.age = age\n",
    "        self.height = height\n",
    "        self.satiety = satiety\n",
    "        \n",
    "        if name == 'John':\n",
    "            self.intolerance_to_liver = True\n",
    "        \n",
    "    \n",
    "# Макет создан, давайте теперь опишем какого-нибудь человека, того же Джона например\n",
    "john = Human(name='John', age=25, height=172)\n",
    "# И еще одного...\n",
    "eva = Human(name='Eva', age=21, height=162)\n",
    "# И еще...\n",
    "marcus = Human(name='Marcus', age=99, height=221)"
   ]
  },
  {
   "cell_type": "markdown",
   "metadata": {},
   "source": [
    "Объединение полей и методов в классе называется **инкапсуляцией**."
   ]
  },
  {
   "cell_type": "markdown",
   "metadata": {},
   "source": [
    "Легко! Не так ли? Можем создавать сразу кучу людей и не надо заново определять целую пачку переменных.  \n",
    "Да и проблема с тем, кого мы кормим, автоматически пропала."
   ]
  },
  {
   "cell_type": "code",
   "execution_count": 19,
   "metadata": {},
   "outputs": [
    {
     "name": "stdout",
     "output_type": "stream",
     "text": [
      "John воздержался от приема пищи\n",
      "Eva поел Ice Cream\n",
      "Marcus поел Offal of enemies\n"
     ]
    }
   ],
   "source": [
    "john.eat('liver')  # Спойлер: тут Джон воздержиться от ужина\n",
    "eva.eat('Ice Cream')\n",
    "marcus.eat('Offal of enemies')"
   ]
  },
  {
   "cell_type": "code",
   "execution_count": 20,
   "metadata": {},
   "outputs": [
    {
     "name": "stdout",
     "output_type": "stream",
     "text": [
      "Это Джон, расходимся...\n",
      "Eva обожает печенку\n",
      "Marcus обожает печенку\n"
     ]
    }
   ],
   "source": [
    "# Давайте проверим, кто не любит печенку\n",
    "folks = [john, eva, marcus]\n",
    "folks_names = [person.name for person in folks]\n",
    "folks_preferences_to_liver = [person.intolerance_to_liver for person in folks]\n",
    "\n",
    "for name, pref in zip(folks_names, folks_preferences_to_liver):\n",
    "    print(f'{name} обожает печенку' if not pref else 'Это Джон, расходимся...')"
   ]
  },
  {
   "cell_type": "markdown",
   "metadata": {},
   "source": [
    "И так, еще раз. В чем суть ООП?  \n",
    "- Объединение переменных и функций в программные сущности с целью повторного использования\n",
    "- Удобство\n",
    "- Human-friendly\n",
    "- <span style=\"color:purple\">**Куча плюшек**</span>, о которых позже"
   ]
  },
  {
   "cell_type": "markdown",
   "metadata": {},
   "source": [
    "Как вы уже заметили Python хорошо поддерживает объектно-ориентированный подход.\n",
    "\n",
    "Более того, он настолько хорошо его поддерживает, что все структуры данных реализованы при помощи классов, даже обычные числа."
   ]
  },
  {
   "cell_type": "code",
   "execution_count": 15,
   "metadata": {},
   "outputs": [
    {
     "name": "stdout",
     "output_type": "stream",
     "text": [
      "Help on int object:\n",
      "\n",
      "class int(object)\n",
      " |  int([x]) -> integer\n",
      " |  int(x, base=10) -> integer\n",
      " |  \n",
      " |  Convert a number or string to an integer, or return 0 if no arguments\n",
      " |  are given.  If x is a number, return x.__int__().  For floating point\n",
      " |  numbers, this truncates towards zero.\n",
      " |  \n",
      " |  If x is not a number or if base is given, then x must be a string,\n",
      " |  bytes, or bytearray instance representing an integer literal in the\n",
      " |  given base.  The literal can be preceded by '+' or '-' and be surrounded\n",
      " |  by whitespace.  The base defaults to 10.  Valid bases are 0 and 2-36.\n",
      " |  Base 0 means to interpret the base from the string as an integer literal.\n",
      " |  >>> int('0b100', base=0)\n",
      " |  4\n",
      " |  \n",
      " |  Methods defined here:\n",
      " |  \n",
      " |  __abs__(self, /)\n",
      " |      abs(self)\n",
      " |  \n",
      " |  __add__(self, value, /)\n",
      " |      Return self+value.\n",
      " |  \n",
      " |  __and__(self, value, /)\n",
      " |      Return self&value.\n",
      " |  \n",
      " |  __bool__(self, /)\n",
      " |      self != 0\n",
      " |  \n",
      " |  __ceil__(...)\n",
      " |      Ceiling of an Integral returns itself.\n",
      " |  \n",
      " |  __divmod__(self, value, /)\n",
      " |      Return divmod(self, value).\n",
      " |  \n",
      " |  __eq__(self, value, /)\n",
      " |      Return self==value.\n",
      " |  \n",
      " |  __float__(self, /)\n",
      " |      float(self)\n",
      " |  \n",
      " |  __floor__(...)\n",
      " |      Flooring an Integral returns itself.\n",
      " |  \n",
      " |  __floordiv__(self, value, /)\n",
      " |      Return self//value.\n",
      " |  \n",
      " |  __format__(self, format_spec, /)\n",
      " |      Default object formatter.\n",
      " |  \n",
      " |  __ge__(self, value, /)\n",
      " |      Return self>=value.\n",
      " |  \n",
      " |  __getattribute__(self, name, /)\n",
      " |      Return getattr(self, name).\n",
      " |  \n",
      " |  __getnewargs__(self, /)\n",
      " |  \n",
      " |  __gt__(self, value, /)\n",
      " |      Return self>value.\n",
      " |  \n",
      " |  __hash__(self, /)\n",
      " |      Return hash(self).\n",
      " |  \n",
      " |  __index__(self, /)\n",
      " |      Return self converted to an integer, if self is suitable for use as an index into a list.\n",
      " |  \n",
      " |  __int__(self, /)\n",
      " |      int(self)\n",
      " |  \n",
      " |  __invert__(self, /)\n",
      " |      ~self\n",
      " |  \n",
      " |  __le__(self, value, /)\n",
      " |      Return self<=value.\n",
      " |  \n",
      " |  __lshift__(self, value, /)\n",
      " |      Return self<<value.\n",
      " |  \n",
      " |  __lt__(self, value, /)\n",
      " |      Return self<value.\n",
      " |  \n",
      " |  __mod__(self, value, /)\n",
      " |      Return self%value.\n",
      " |  \n",
      " |  __mul__(self, value, /)\n",
      " |      Return self*value.\n",
      " |  \n",
      " |  __ne__(self, value, /)\n",
      " |      Return self!=value.\n",
      " |  \n",
      " |  __neg__(self, /)\n",
      " |      -self\n",
      " |  \n",
      " |  __or__(self, value, /)\n",
      " |      Return self|value.\n",
      " |  \n",
      " |  __pos__(self, /)\n",
      " |      +self\n",
      " |  \n",
      " |  __pow__(self, value, mod=None, /)\n",
      " |      Return pow(self, value, mod).\n",
      " |  \n",
      " |  __radd__(self, value, /)\n",
      " |      Return value+self.\n",
      " |  \n",
      " |  __rand__(self, value, /)\n",
      " |      Return value&self.\n",
      " |  \n",
      " |  __rdivmod__(self, value, /)\n",
      " |      Return divmod(value, self).\n",
      " |  \n",
      " |  __repr__(self, /)\n",
      " |      Return repr(self).\n",
      " |  \n",
      " |  __rfloordiv__(self, value, /)\n",
      " |      Return value//self.\n",
      " |  \n",
      " |  __rlshift__(self, value, /)\n",
      " |      Return value<<self.\n",
      " |  \n",
      " |  __rmod__(self, value, /)\n",
      " |      Return value%self.\n",
      " |  \n",
      " |  __rmul__(self, value, /)\n",
      " |      Return value*self.\n",
      " |  \n",
      " |  __ror__(self, value, /)\n",
      " |      Return value|self.\n",
      " |  \n",
      " |  __round__(...)\n",
      " |      Rounding an Integral returns itself.\n",
      " |      Rounding with an ndigits argument also returns an integer.\n",
      " |  \n",
      " |  __rpow__(self, value, mod=None, /)\n",
      " |      Return pow(value, self, mod).\n",
      " |  \n",
      " |  __rrshift__(self, value, /)\n",
      " |      Return value>>self.\n",
      " |  \n",
      " |  __rshift__(self, value, /)\n",
      " |      Return self>>value.\n",
      " |  \n",
      " |  __rsub__(self, value, /)\n",
      " |      Return value-self.\n",
      " |  \n",
      " |  __rtruediv__(self, value, /)\n",
      " |      Return value/self.\n",
      " |  \n",
      " |  __rxor__(self, value, /)\n",
      " |      Return value^self.\n",
      " |  \n",
      " |  __sizeof__(self, /)\n",
      " |      Returns size in memory, in bytes.\n",
      " |  \n",
      " |  __str__(self, /)\n",
      " |      Return str(self).\n",
      " |  \n",
      " |  __sub__(self, value, /)\n",
      " |      Return self-value.\n",
      " |  \n",
      " |  __truediv__(self, value, /)\n",
      " |      Return self/value.\n",
      " |  \n",
      " |  __trunc__(...)\n",
      " |      Truncating an Integral returns itself.\n",
      " |  \n",
      " |  __xor__(self, value, /)\n",
      " |      Return self^value.\n",
      " |  \n",
      " |  bit_length(self, /)\n",
      " |      Number of bits necessary to represent self in binary.\n",
      " |      \n",
      " |      >>> bin(37)\n",
      " |      '0b100101'\n",
      " |      >>> (37).bit_length()\n",
      " |      6\n",
      " |  \n",
      " |  conjugate(...)\n",
      " |      Returns self, the complex conjugate of any int.\n",
      " |  \n",
      " |  to_bytes(self, /, length, byteorder, *, signed=False)\n",
      " |      Return an array of bytes representing an integer.\n",
      " |      \n",
      " |      length\n",
      " |        Length of bytes object to use.  An OverflowError is raised if the\n",
      " |        integer is not representable with the given number of bytes.\n",
      " |      byteorder\n",
      " |        The byte order used to represent the integer.  If byteorder is 'big',\n",
      " |        the most significant byte is at the beginning of the byte array.  If\n",
      " |        byteorder is 'little', the most significant byte is at the end of the\n",
      " |        byte array.  To request the native byte order of the host system, use\n",
      " |        `sys.byteorder' as the byte order value.\n",
      " |      signed\n",
      " |        Determines whether two's complement is used to represent the integer.\n",
      " |        If signed is False and a negative integer is given, an OverflowError\n",
      " |        is raised.\n",
      " |  \n",
      " |  ----------------------------------------------------------------------\n",
      " |  Class methods defined here:\n",
      " |  \n",
      " |  from_bytes(bytes, byteorder, *, signed=False) from builtins.type\n",
      " |      Return the integer represented by the given array of bytes.\n",
      " |      \n",
      " |      bytes\n",
      " |        Holds the array of bytes to convert.  The argument must either\n",
      " |        support the buffer protocol or be an iterable object producing bytes.\n",
      " |        Bytes and bytearray are examples of built-in objects that support the\n",
      " |        buffer protocol.\n",
      " |      byteorder\n",
      " |        The byte order used to represent the integer.  If byteorder is 'big',\n",
      " |        the most significant byte is at the beginning of the byte array.  If\n",
      " |        byteorder is 'little', the most significant byte is at the end of the\n",
      " |        byte array.  To request the native byte order of the host system, use\n",
      " |        `sys.byteorder' as the byte order value.\n",
      " |      signed\n",
      " |        Indicates whether two's complement is used to represent the integer.\n",
      " |  \n",
      " |  ----------------------------------------------------------------------\n",
      " |  Static methods defined here:\n",
      " |  \n",
      " |  __new__(*args, **kwargs) from builtins.type\n",
      " |      Create and return a new object.  See help(type) for accurate signature.\n",
      " |  \n",
      " |  ----------------------------------------------------------------------\n",
      " |  Data descriptors defined here:\n",
      " |  \n",
      " |  denominator\n",
      " |      the denominator of a rational number in lowest terms\n",
      " |  \n",
      " |  imag\n",
      " |      the imaginary part of a complex number\n",
      " |  \n",
      " |  numerator\n",
      " |      the numerator of a rational number in lowest terms\n",
      " |  \n",
      " |  real\n",
      " |      the real part of a complex number\n",
      "\n"
     ]
    }
   ],
   "source": [
    "x = 5\n",
    "help(x)"
   ]
  },
  {
   "cell_type": "code",
   "execution_count": 16,
   "metadata": {},
   "outputs": [
    {
     "data": {
      "text/plain": [
       "complex"
      ]
     },
     "execution_count": 16,
     "metadata": {},
     "output_type": "execute_result"
    }
   ],
   "source": [
    "z = 5 + 0.6j\n",
    "type(z)"
   ]
  },
  {
   "cell_type": "markdown",
   "metadata": {},
   "source": [
    "Может быть вам известно, что в Си такой роскоши нету, там стандартные типы (числа, буквы) реализованы просто как порции в памяти.\n",
    "\n",
    "Классы позволяет гораздо удобнее работать со стандартными типами. Для комплексного типа мы можем вызвать метод, который имплементирован в классе complex, обращаясь к нему через точку."
   ]
  },
  {
   "cell_type": "code",
   "execution_count": 4,
   "metadata": {},
   "outputs": [
    {
     "data": {
      "text/plain": [
       "5.0"
      ]
     },
     "execution_count": 4,
     "metadata": {},
     "output_type": "execute_result"
    }
   ],
   "source": [
    "z.real"
   ]
  },
  {
   "cell_type": "markdown",
   "metadata": {},
   "source": [
    "Нам не нужно создавать какую-то новую функцию, в которую мы бы передавали число в виде аргумента. А сама функция возвращала бы действительную часть аргумента. \n",
    "\n",
    "Внешняя функция может попортить область видимости, что порой приводит к сильным проблемам, если проект большой.\n",
    "\n",
    "Классы позволяют скрыть логику внутри самого объекта (под логикой я подразумеваю методы, по-сути функции и поля, т.е. переменные). И через точку мы можем вызывать эти методы на данном объекте. Это чисто и красиво с точки зрения архитектуры программы. Ибо зачем нам держать функцию получения действительной части кроме как для комплексных чисел?"
   ]
  },
  {
   "cell_type": "markdown",
   "metadata": {},
   "source": [
    "### Наследование\n",
    "\n",
    "Наследование - это процесс, с помощью которого один класс приобретает атрибуты и методы другого. Вновь сформированные классы называются дочерними классами, а классы, от которых происходят дочерние классы, называются родительскими классами.\n",
    "\n",
    "Важно отметить, что дочерние классы переопределяют или расширяют функциональность (например, атрибуты и поведение) родительских классов. Другими словами, дочерние классы наследуют все атрибуты и поведение родителя, но могут также определять другое поведение, которому нужно следовать."
   ]
  },
  {
   "cell_type": "code",
   "execution_count": 104,
   "metadata": {},
   "outputs": [],
   "source": [
    "# Пример\n",
    "\n",
    "# P.S. На самом деле классы могут наследоваться от нескольких родителей\n",
    "class Student(Human):\n",
    "    \n",
    "    def go_botat(self):\n",
    "        print(f'{self.name} пошел ботать.')\n",
    "        \n",
    "    # Если не переопределим этот метод, то будет использоваться родительский\n",
    "    def eat(self, food):\n",
    "        Human.eat(self, food)\n",
    "        print(f'{self.name} помыл руки')\n",
    "    \n",
    "    def __init__(self, name, age, height, institute, satiety = 0):\n",
    "        Human.__init__(self, name, age, height, satiety)\n",
    "        self.institute = institute"
   ]
  },
  {
   "cell_type": "code",
   "execution_count": 105,
   "metadata": {},
   "outputs": [
    {
     "name": "stdout",
     "output_type": "stream",
     "text": [
      "Лёня пошел ботать.\n",
      "0\n",
      "Лёня поел Pasta\n",
      "Лёня помыл руки\n",
      "10\n"
     ]
    },
    {
     "data": {
      "text/plain": [
       "<__main__.Student at 0x1127019d0>"
      ]
     },
     "execution_count": 105,
     "metadata": {},
     "output_type": "execute_result"
    }
   ],
   "source": [
    "lenya = Student('Лёня', 21, 190, 'МФТИ')\\\n",
    "\n",
    "lenya.go_botat()\n",
    "\n",
    "print(lenya.satiety)\n",
    "lenya.eat('Pasta')\n",
    "print(lenya.satiety)\n",
    "\n",
    "lenya"
   ]
  },
  {
   "cell_type": "markdown",
   "metadata": {},
   "source": [
    "### Полиморфизм - способность функции корректно работать с аргументами разных типов"
   ]
  },
  {
   "cell_type": "markdown",
   "metadata": {},
   "source": [
    "Как мы видели раньше, проверка типов при вызове функции/метода не проводится. Можно передавать любой параметр, для которого все потребовавшиеся операции будут иметь смысл."
   ]
  },
  {
   "cell_type": "code",
   "execution_count": 46,
   "metadata": {},
   "outputs": [],
   "source": [
    "def check(lst1, lst2):\n",
    "    for v1 in lst1:\n",
    "        for v2 in lst2:\n",
    "            if v1 > v2:\n",
    "                return False\n",
    "    return True\n",
    "\n",
    "# Аргументы каких типов можно передать в эту функцию?"
   ]
  },
  {
   "cell_type": "code",
   "execution_count": 47,
   "metadata": {},
   "outputs": [
    {
     "data": {
      "text/plain": [
       "11"
      ]
     },
     "execution_count": 47,
     "metadata": {},
     "output_type": "execute_result"
    }
   ],
   "source": [
    "# Вы уже много раз сталкивались с функцией len\n",
    "\n",
    "len('Hello world')"
   ]
  },
  {
   "cell_type": "code",
   "execution_count": 48,
   "metadata": {},
   "outputs": [
    {
     "data": {
      "text/plain": [
       "3"
      ]
     },
     "execution_count": 48,
     "metadata": {},
     "output_type": "execute_result"
    }
   ],
   "source": [
    "len(['a', 1, [1, 2, 3]])"
   ]
  },
  {
   "cell_type": "code",
   "execution_count": 49,
   "metadata": {},
   "outputs": [],
   "source": [
    "# Как видите эта функция способна работать с аргументами разных типов => она полиморфна"
   ]
  },
  {
   "cell_type": "markdown",
   "metadata": {},
   "source": [
    "#### Полезные функции для рефлексии"
   ]
  },
  {
   "cell_type": "code",
   "execution_count": 61,
   "metadata": {},
   "outputs": [
    {
     "name": "stdout",
     "output_type": "stream",
     "text": [
      "4\n",
      "9.87\n",
      "haha\n"
     ]
    }
   ],
   "source": [
    "type(4)  # Проверяем тип\n",
    "\n",
    "# В случаях когда, мы хотим, чтобы функция работала для аргументов разных типов, \n",
    "# мы можем проверять тип аргументов в самой функции\n",
    "\n",
    "# Например\n",
    "def squarer(x):\n",
    "    if type(x) == int or type(x) == float:\n",
    "        return x ** 2\n",
    "    elif type(x) == str:\n",
    "        return x * 2\n",
    "        \n",
    "\n",
    "from math import pi\n",
    "print(squarer(2))\n",
    "print(round(squarer(pi), 2))\n",
    "print(squarer('ha'))"
   ]
  },
  {
   "cell_type": "code",
   "execution_count": 79,
   "metadata": {},
   "outputs": [
    {
     "name": "stdout",
     "output_type": "stream",
     "text": [
      "['__abs__', '__add__', '__bool__', '__class__', '__delattr__', '__dir__', '__divmod__', '__doc__', '__eq__', '__float__', '__floordiv__', '__format__', '__ge__', '__getattribute__', '__getformat__', '__getnewargs__', '__gt__', '__hash__', '__init__', '__init_subclass__', '__int__', '__le__', '__lt__', '__mod__', '__mul__', '__ne__', '__neg__', '__new__', '__pos__', '__pow__', '__radd__', '__rdivmod__', '__reduce__', '__reduce_ex__', '__repr__', '__rfloordiv__', '__rmod__', '__rmul__', '__round__', '__rpow__', '__rsub__', '__rtruediv__', '__set_format__', '__setattr__', '__sizeof__', '__str__', '__sub__', '__subclasshook__', '__truediv__', '__trunc__', 'as_integer_ratio', 'conjugate', 'fromhex', 'hex', 'imag', 'is_integer', 'real']\n"
     ]
    },
    {
     "data": {
      "text/plain": [
       "True"
      ]
     },
     "execution_count": 79,
     "metadata": {},
     "output_type": "execute_result"
    }
   ],
   "source": [
    "# Иногда в функции мы вызываем методы аргумента, чтобы не было ошибок (исключений) мы можем проверить тип или метод\n",
    "\n",
    "print(dir(pi))\n",
    "\n",
    "def call_eq_on(x, y):\n",
    "    if '__eq__' in dir(x) and '__eq__' in dir(y):\n",
    "        return x == y\n",
    "    \n",
    "    return None\n",
    "    \n",
    "call_eq_on(5, 5)"
   ]
  },
  {
   "cell_type": "code",
   "execution_count": 108,
   "metadata": {},
   "outputs": [
    {
     "name": "stdout",
     "output_type": "stream",
     "text": [
      "True\n",
      "False\n"
     ]
    }
   ],
   "source": [
    "# Также можно проверить по какому классу был создан объект\n",
    "\n",
    "nobody = Human('', 0, 0)\n",
    "\n",
    "print(isinstance(nobody, Human))\n",
    "print(isinstance(nobody, Student))"
   ]
  },
  {
   "cell_type": "code",
   "execution_count": 90,
   "metadata": {},
   "outputs": [
    {
     "name": "stdout",
     "output_type": "stream",
     "text": [
      "False\n",
      "True\n"
     ]
    }
   ],
   "source": [
    "# Можно проверить и возможность вызова аргумента как функции\n",
    "\n",
    "print(callable(nobody))\n",
    "print(callable(nobody.eat))"
   ]
  },
  {
   "cell_type": "code",
   "execution_count": 92,
   "metadata": {},
   "outputs": [
    {
     "name": "stdout",
     "output_type": "stream",
     "text": [
      "True\n",
      "False\n"
     ]
    }
   ],
   "source": [
    "# Можно проверить является ли класс дочерним по отношению к другому классу\n",
    "\n",
    "print(issubclass(Student, Human))\n",
    "print(issubclass(Human, Student))"
   ]
  },
  {
   "cell_type": "code",
   "execution_count": 98,
   "metadata": {},
   "outputs": [
    {
     "name": "stdout",
     "output_type": "stream",
     "text": [
      "False\n",
      "Что и следовало ожидать, такого поля нету\n"
     ]
    }
   ],
   "source": [
    "# Можно получить значение поле по его названию в виде строки, если оно определено в аргументе\n",
    "\n",
    "print(getattr(nobody, 'intolerance_to_liver'))\n",
    "print(getattr(nobody, 'bad_field', 'Что и следовало ожидать, такого поля нету'))\n",
    "\n",
    "# getattr(nobody, 'bad_field')  # Что будет если вызвать вот getattr в таком виде?"
   ]
  },
  {
   "cell_type": "markdown",
   "metadata": {},
   "source": [
    "Очень вероятно у вас возникнул вопрос, и как же это ~~мать его~~ связано с ООП?\n",
    "\n",
    "Такие полиморфные возможности позволяют функциям эффективно работать с родственными объектами.  \n",
    "Например, мы уже написали какую-то функцию, которая принимает аргументом объект класса Human.  \n",
    "Потом мы создали объект класса Student и применили ту же функцию на новом объекте."
   ]
  },
  {
   "cell_type": "code",
   "execution_count": 112,
   "metadata": {},
   "outputs": [
    {
     "data": {
      "text/plain": [
       "'Jared'"
      ]
     },
     "execution_count": 112,
     "metadata": {},
     "output_type": "execute_result"
    }
   ],
   "source": [
    "def mutate_name_of_human_like(obj, new_name):\n",
    "    # Используем одинаковый интерфейс не задумываясь о том, какого конкретно класса аргумент\n",
    "    if isinstance(obj, Human):\n",
    "        obj.name = new_name\n",
    "        \n",
    "mutate_name_of_human_like(nobody, 'Jared')\n",
    "nobody.name"
   ]
  },
  {
   "cell_type": "markdown",
   "metadata": {},
   "source": [
    "### Практика\n",
    "Теперь давайте вместе потренируемся и закодим свой класс **Set**"
   ]
  },
  {
   "cell_type": "code",
   "execution_count": null,
   "metadata": {},
   "outputs": [],
   "source": []
  }
 ],
 "metadata": {
  "kernelspec": {
   "display_name": "Python 3",
   "language": "python",
   "name": "python3"
  },
  "language_info": {
   "codemirror_mode": {
    "name": "ipython",
    "version": 3
   },
   "file_extension": ".py",
   "mimetype": "text/x-python",
   "name": "python",
   "nbconvert_exporter": "python",
   "pygments_lexer": "ipython3",
   "version": "3.7.4"
  }
 },
 "nbformat": 4,
 "nbformat_minor": 2
}
