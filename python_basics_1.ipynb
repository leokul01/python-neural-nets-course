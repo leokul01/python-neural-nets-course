{
 "cells": [
  {
   "cell_type": "markdown",
   "metadata": {},
   "source": [
    "**Python** — высокоуровневый интерпретируемый язык программирования общего назначения, ориентированный на повышение производительности разработчика и читаемости кода.\n",
    "\n",
    "Создатель: Guido van Rossum\n",
    "\n",
    "Основные архитектурные черты — динамическая типизация, автоматическое управление памятью, полная интроспекция, механизм обработки исключений, поддержка многопоточных вычислений, высокоуровневые структуры данных. Поддерживается разбиение программ на модули, которые, в свою очередь, могут объединяться в пакеты."
   ]
  },
  {
   "cell_type": "markdown",
   "metadata": {},
   "source": [
    "## Философия\n",
    "\n",
    "```python\n",
    "In [1]: import this\n",
    "\n",
    "The Zen of Python, by Tim Peters\n",
    "\n",
    "Beautiful is better than ugly.\n",
    "Explicit is better than implicit.\n",
    "Simple is better than complex.\n",
    "Complex is better than complicated.\n",
    "Flat is better than nested.\n",
    "Sparse is better than dense.\n",
    "Readability counts.\n",
    "Special cases aren't special enough to break the rules.\n",
    "Although practicality beats purity.\n",
    "Errors should never pass silently.\n",
    "Unless explicitly silenced.\n",
    "In the face of ambiguity, refuse the temptation to guess.\n",
    "There should be one-- and preferably only one --obvious way to do it.\n",
    "Although that way may not be obvious at first unless you're Dutch.\n",
    "Now is better than never.\n",
    "Although never is often better than *right* now.\n",
    "If the implementation is hard to explain, it's a bad idea.\n",
    "If the implementation is easy to explain, it may be a good idea.\n",
    "Namespaces are one honking great idea -- let's do more of those!\n",
    "```"
   ]
  },
  {
   "cell_type": "markdown",
   "metadata": {},
   "source": [
    "## Версии Python\n",
    "Язык сейчас существует в двух актуальных версиях: Python 2 и Python 3.  \n",
    "Базовые идеи совпадают, есть различия в синтаксисе и в интерфейсе библиотек.  \n",
    "Развитие версии 2 по плану должно быть прекращено с 2020г., поэтому в материалах курса используется только Python 3.  \n",
    "На Python 2 по-прежнему пишут, поэтому желательно проверять версию при использовании чужого кода."
   ]
  },
  {
   "cell_type": "markdown",
   "metadata": {},
   "source": [
    "## Установка Python 3\n",
    "```shell\n",
    "brew install python # MacOS\n",
    "# На Linux, как правило, Python предустановлен\n",
    "# На Windows проще всего использовать пакет Anaconda: https://www.anaconda.com\n",
    "```"
   ]
  },
  {
   "cell_type": "markdown",
   "metadata": {},
   "source": [
    "## Запуск интерпретатора\n",
    "\n",
    "```shell\n",
    "python3 # Default for MacOS and Linux\n",
    "python # Windows\n",
    "ipython # Улучшенная версия стандартного интерпретатора, нужно скачивать\n",
    "```\n",
    "\n",
    "Запустив интерпретатор (Программу, которая интерпретирует наш код и переводит в машинный код, который затем выполняется процессором) выполним простейшую арифметическую операцию\n",
    "```python\n",
    "In [1]: 3 + 4\n",
    "Out[1]: 7\n",
    "```\n",
    "\n",
    "Можно запустить интерпретацию целого файла командой `python файл_с_кодом.py.`  \n",
    "В этом случае интерпретатор сначала проверит базовый синтаксис (чтобы считывание файла было минимально осмысленным), а затем будет выполнять команды построчно, как если бы они вводились руками."
   ]
  },
  {
   "cell_type": "markdown",
   "metadata": {},
   "source": [
    "## Jupyter\n",
    "\n",
    "**Jupyter** - браузерный редактор кода (и не только), который поставляется вместе с пакетом **Anaconda**.  \n",
    "Если же вы не желаете устанавливать пакет Anaconda, как я например :), то можно скачать отдельно jupyter при помощи какого-нибудь пакетного менеджера.\n",
    "\n",
    "**Anaconda**: https://www.anaconda.com <- включает в себя jupyter\n",
    "\n",
    "Для хардкорщиков (альтернатива анаконды):\n",
    "```shell\n",
    "pip3 install jupyter # Manual installation of jupyter\n",
    "```\n",
    "\n",
    "Jupyter очень удобен для проверки каких-либо гипотез.  \n",
    "Вы можете быстро попробовать какие-то куски кода и тут же посмотреть их вывод.  \n",
    "Более того jupyter разбивает окно с кодом на ячейки, которые можно исполнять по отдельности, сохраняя при этом общий контекст (который определяется ядром - kernel).\n",
    "\n",
    "Практически во всех случаях, когда вам не надо писать полноценную программу можно использовать Jupyter, так как он выводит графики вместе с кодом, результат вместе с кодом и позволяет удобно организовывать код. По этой причине он очень популярен среди Data Scientist'ов.\n",
    "\n",
    "А еще сюда можно вставлять картинки, ссылки и красиво оформлять обычный текст с помощью языка разметки Markdown.\n",
    "\n",
    "Также такими конспектами (jupyter ноутбуки) удобно делиться с коллегами. Коллега сможет посмотреть и код, и вывод кода даже без запуска интерпретатора!\n",
    "\n",
    "Jupyter мы будем изучать на протяжении всего курса, так что если я вас еще не убедил в его офигенности, то дайте ему время."
   ]
  },
  {
   "cell_type": "markdown",
   "metadata": {},
   "source": [
    "## Встроенная помощь\n",
    "\n",
    "В интерпретаторе можно вызвать помощь: либо общую, вызовом функции `help()`, либо по конкретному объекту, вызовом `help(объект)`, например:\n",
    "```python\n",
    "In [1]: x = 5\n",
    "In [2]: help(x) \n",
    "Out[2]: class int(object)\n",
    " |  int([x]) -> integer\n",
    " |  int(x, base=10) -> integer\n",
    " |\n",
    " |  Convert a number or string to an integer, or return 0 if no arguments\n",
    " |  are given.  If x is a number, return x.__int__().  For floating point\n",
    " |  numbers, this truncates towards zero.\n",
    " |\n",
    " |  If x is not a number or if base is given, then x must be a string,\n",
    " |  bytes, or bytearray instance representing an integer literal in the\n",
    " |  given base.  The literal can be preceded by '+' or '-' and be surrounded\n",
    " |  by whitespace.  The base defaults to 10.  Valid bases are 0 and 2-36.\n",
    " |  Base 0 means to interpret the base from the string as an integer literal.\n",
    " |  >>> int('0b100', base=0)\n",
    " |  4\n",
    "```\n",
    "\n",
    "Можно использовать в качестве «помощи» функцию dir. `dir()` выдаёт список доступных переменных, `dir(объект)` — список доступных методов объекта.\n",
    "\n",
    "```python\n",
    "In [1]: s = 'Hello world'\n",
    "\n",
    "In [2]: dir(s)\n",
    "Out[2]:\n",
    "['__add__',\n",
    " '__class__',\n",
    " '__contains__',\n",
    " '__delattr__',\n",
    " '__dir__',\n",
    " '__doc__',\n",
    " '__eq__',\n",
    "```"
   ]
  },
  {
   "cell_type": "markdown",
   "metadata": {},
   "source": [
    "## Базовый синтаксис\n",
    "\n",
    "Программа пишется по строкам, каждая из которых содержит одно выражение.  \n",
    "В конце строки не ставятся никакие знаки препинания (нет точек с запятой, как в C).  \n",
    "Переменные языка не объявляются, а создаются при первом присваивании в них:  \n",
    "```python\n",
    "x = 5 # создана переменная x, хранящая целое число 5 \n",
    "y = x + 5/7 # в переменной y --- дробное число\n",
    "z = 'Value: ' + str(y) # z хранит строку\n",
    "```\n",
    "\n",
    "Законно (хотя нежелательно) менять тип переменной, присвоив ей значение нового типа:  \n",
    "```python\n",
    "x = 5 # в x целое число\n",
    "x = 'string' # теперь строка\n",
    "```"
   ]
  },
  {
   "cell_type": "markdown",
   "metadata": {},
   "source": [
    "## Встроенные простые типы\n",
    "* Целое число: поддерживает стандартный набор арифметических операций. Возведение в степень вычислятся оператором «\\*\\*». Диапазон значений не ограничен:\n",
    "```python\n",
    "5 ** 50\n",
    "88817841970012523233890533447265625\n",
    "```\n",
    "* Число с плавающей точкой отличается от C: там операция с целыми числами всегда выдавала целый результат, операция с дробями — дробный. В Python деление знаком «/» выдаёт дробь, целочисленное деление выполняется «//», остаток от деления — «%»:\n",
    "```python\n",
    "7 / 3 # выдаст 2.3333333333333335\n",
    "7 // 3 # выдаст 2\n",
    "7 % 3 # выдаст 1\n",
    "```\n",
    "* Логическое значение: True или False:\n",
    "```python\n",
    "False or True # выдаст True \n",
    "(4 < 5) and (1.2 == 1.3) # выдаст False\n",
    "```\n",
    "* Последовательность байтов;\n",
    "* Строка — в отличие от C, это встроенный тип, не просто массив символов (отдельного типа «символ» вообще нет). Последовательность символов в одинарных или двойных кавычках. Можно сделать длинную строку, использовав тройные кавычки:\n",
    "```python\n",
    "'abc' + \"def\" # выдаст ’abcdef’\n",
    "\"\"\" multiline\n",
    "string\n",
    "\"\"\" # выдаст ’ multiline\\nstring\\n’\n",
    "```\n",
    "\n",
    "Встроенные строки неизменны  \n",
    "У строк есть множество методов, позволяющих преобразовывать их:  \n",
    "```python\n",
    "'abc' * 3 # 'abcabcabc'\n",
    "len('abc') # 3 \n",
    "'123'.isdigit() # True \n",
    "'123'[0] # '1'\n",
    "s = 'abc def ghi'\n",
    "s.split(' ') # список: ['abc', 'def', 'ghi']\n",
    "```\n",
    "Есть одна особенность — **строки неизменны**:  \n",
    "```python\n",
    "'123'[0] = 'a' # не сработает\n",
    "# Все функции, которые, казалось бы, должны менять\n",
    "# строку, на самом деле создают новую:\n",
    "'abc'.upper() # новая строка ’ABC’\n",
    "```"
   ]
  },
  {
   "cell_type": "markdown",
   "metadata": {},
   "source": [
    "## Специальные значения\n",
    "**None** — значение (специального типа NoneType), представляющее отсутствие значения. В C обычно используют заведомо неправильное, недопустимое значение, чтобы показать, что переменная пока не инициализирована. В Python вместо этого применяют None. None не равен никакому значению; иногда None может быть не равен None, поэтому при проверке надо использовать выражение «переменная is None» / «переменная is not None»:\n",
    "```python\n",
    "a = None\n",
    "if info_correct:\n",
    "    a = len(info)\n",
    "if a is None:  # проверка на None\n",
    "    \n",
    "# Представление бесконечного значения:\n",
    "import math\n",
    "math.inf\n",
    "```\n",
    "**NaN** (Not a Number) — специальное значение для результатов неудачных арифметических операций. Вводится многими сторонними библиотеками, в частности numpy (распространённой библиотекой численных методов). Разберем эту библиотеку позже."
   ]
  },
  {
   "cell_type": "markdown",
   "metadata": {},
   "source": [
    "## Работа с памятью\n",
    "Выделение памяти под встроенные типы выполняется автоматически.\n",
    "\n",
    "\n",
    "Память под объекты классов выделяется при их создании.\n",
    "\n",
    "\n",
    "Освобождение памяти всегда выполняется автоматически сборщиком мусора (кроме работы с модулями других языков, требующими явного вызова методов уничтожения объектов).\n",
    "\n",
    "\n",
    "Беспокоиться о корректности очистки не надо, но она влияет на производительность."
   ]
  },
  {
   "cell_type": "markdown",
   "metadata": {},
   "source": [
    "## Список (list)"
   ]
  },
  {
   "cell_type": "code",
   "execution_count": 1,
   "metadata": {},
   "outputs": [
    {
     "name": "stdout",
     "output_type": "stream",
     "text": [
      "6 21\n"
     ]
    }
   ],
   "source": [
    "# list - наиважнейшная структура данных в Python. Это просто упорядоченная коллекция, похожая на массив в других\n",
    "# языках программирования, но с дополнительными функциональными возможностями\n",
    "integer_list = [1, 2, 3, 4, 5, 6]  # Список целых чисел\n",
    "heterogeneous_list = ['Apples', 0.1, True]  # Разнородный список\n",
    "\n",
    "list_length = len(integer_list)  # Длина списка\n",
    "list_sum = sum(integer_list)  # Сумма всех элементов списка (Иногда называют сверткой списка)\n",
    "\n",
    "print(list_length, list_sum)"
   ]
  },
  {
   "cell_type": "code",
   "execution_count": 2,
   "metadata": {},
   "outputs": [
    {
     "name": "stdout",
     "output_type": "stream",
     "text": [
      "[-1, 1, 2, 3, 4, 5, 6, 7, 8, 9]\n"
     ]
    }
   ],
   "source": [
    "x = range(10)  # Иммутабельная последовательность элементов от 0 до 9 (Ленивая)\n",
    "x = list(range(10))  # Если мы хотим в дальнейшем изменять последовательность, можно воспользоваться\n",
    "# преобразованием list, чтобы изменить тип с range на list\n",
    "\n",
    "zero = x[0]  # = 0 - списки нуль-индексные (в отличие от Pascal :D)\n",
    "one = x[1]\n",
    "nine = x[-1]  # таким образом можно взять последний элемент последовательности\n",
    "eight = x[-2]  # предпоследний элемент\n",
    "x[0] = -1\n",
    "\n",
    "print(x)"
   ]
  },
  {
   "cell_type": "code",
   "execution_count": 5,
   "metadata": {},
   "outputs": [],
   "source": [
    "# Нарезка списков - крайне часто используемая штука\n",
    "\n",
    "first_three = x[:3]  # Первые 3 элемента = [-1, 1, 2]\n",
    "three_to_end = x[3:]  # C 3-го до конца = [3, 4 ... 9]\n",
    "one_to_four = x[1:5]  # C 1-го по 4-ый = [1, 2, 3, 4]\n",
    "last_three = x[-3:]  # Последние 3 элемента = [7, 8, 9]\n",
    "without_first_and_last = x[1:-1]  # Без первого и последнего = [1 ... 8]\n",
    "copy_of_x = x[:]  # Копия списка х = [-1, 1 ... 9]\n",
    "odds = x[::2]  # Копия списка х с шагом 2 = [-1, 2, 4, 6, 8]"
   ]
  },
  {
   "cell_type": "code",
   "execution_count": null,
   "metadata": {},
   "outputs": [],
   "source": [
    "# В Python есть оператор in, который проверяет принадлежность элемента последовательности, в том числе списку\n",
    "\n",
    "1 in [1, 2, 3]  # True\n",
    "0 in [1, 2, 3]  # False\n",
    "\n",
    "# Warning: не следует использовать, если список слишком большой"
   ]
  },
  {
   "cell_type": "code",
   "execution_count": 19,
   "metadata": {},
   "outputs": [
    {
     "name": "stdout",
     "output_type": "stream",
     "text": [
      "[1, 2, 3, 4, 5, 6]\n"
     ]
    }
   ],
   "source": [
    "# Списки легко сцеплять друг с другом\n",
    "x = [1, 2, 3]\n",
    "x.extend([4, 5, 6])\n",
    "\n",
    "# Good practice: когда методы именуются глаголами и не заканчиваются на 'ed',\n",
    "# то обычно метод работает по схеме in-place\n",
    "\n",
    "print(x)"
   ]
  },
  {
   "cell_type": "code",
   "execution_count": 20,
   "metadata": {},
   "outputs": [
    {
     "name": "stdout",
     "output_type": "stream",
     "text": [
      "[1, 2, 3] [1, 2, 3, 4, 5, 6]\n"
     ]
    }
   ],
   "source": [
    "# Если нужно оставить список х без изменений, то можно воспользоваться конкатенацией списков\n",
    "x = [1, 2, 3]\n",
    "y = x + [4, 5, 6]\n",
    "\n",
    "print(x, y)"
   ]
  },
  {
   "cell_type": "code",
   "execution_count": 7,
   "metadata": {},
   "outputs": [
    {
     "data": {
      "text/plain": [
       "[5, 6]"
      ]
     },
     "execution_count": 7,
     "metadata": {},
     "output_type": "execute_result"
    }
   ],
   "source": [
    "# Обычно к спискам добавляют по одному элементу за операцию\n",
    "x = [1, 2, 3]\n",
    "x.append(4)  # Теперь x = [1, 2, 3, 4]\n",
    "y = x[-1]  # y = 4\n",
    "z = len(x)  # z = 4"
   ]
  },
  {
   "cell_type": "code",
   "execution_count": 8,
   "metadata": {},
   "outputs": [
    {
     "data": {
      "text/plain": [
       "[1, 2, 3, 4, 5, 6, 7, 8]"
      ]
     },
     "execution_count": 8,
     "metadata": {},
     "output_type": "execute_result"
    }
   ],
   "source": [
    "# Бывает также удобно распаковать список\n",
    "x, y = [1, 2]  # Теперь x = 1, y = 2"
   ]
  },
  {
   "cell_type": "code",
   "execution_count": null,
   "metadata": {},
   "outputs": [],
   "source": [
    "# Иногда также бывает удобно отбросить элемент при распаковке, в этом случае можно использовать _\n",
    "_, y = [1, 2]  # Отбросили первый элемент, y = 2"
   ]
  },
  {
   "cell_type": "code",
   "execution_count": 21,
   "metadata": {},
   "outputs": [
    {
     "data": {
      "text/plain": [
       "[2, 3]"
      ]
     },
     "execution_count": 21,
     "metadata": {},
     "output_type": "execute_result"
    }
   ],
   "source": [
    "# Список - это мутабельная последовательность => иногда нам нужно удалить элемент\n",
    "x = [1, 2, 3]\n",
    "del x[0]\n",
    "x  # Jupyter автоматически выводит результат последней команды (можно опустить print в данном случае)"
   ]
  },
  {
   "cell_type": "code",
   "execution_count": 22,
   "metadata": {
    "scrolled": true
   },
   "outputs": [
    {
     "data": {
      "text/plain": [
       "[[1, 2, 3], [10, 11, 12]]"
      ]
     },
     "execution_count": 22,
     "metadata": {},
     "output_type": "execute_result"
    }
   ],
   "source": [
    "# Программисты часто имею дело с 2D матрицами. Создать их очень просто\n",
    "x = [1, 2, 3]\n",
    "y = [10, 11, 12]\n",
    "listOfLists = [x, y]\n",
    "listOfLists"
   ]
  },
  {
   "cell_type": "code",
   "execution_count": 24,
   "metadata": {},
   "outputs": [
    {
     "name": "stdout",
     "output_type": "stream",
     "text": [
      "[1, 2, 3]\n"
     ]
    },
    {
     "data": {
      "text/plain": [
       "[3, 2, 1]"
      ]
     },
     "execution_count": 24,
     "metadata": {},
     "output_type": "execute_result"
    }
   ],
   "source": [
    "z = [3, 2, 1]\n",
    "print(sorted(z))  # Глобальная встроенная функция sorted оканчивается на ed => не меняет z in-place\n",
    "z"
   ]
  },
  {
   "cell_type": "code",
   "execution_count": 25,
   "metadata": {},
   "outputs": [
    {
     "data": {
      "text/plain": [
       "[1, 2, 3]"
      ]
     },
     "execution_count": 25,
     "metadata": {},
     "output_type": "execute_result"
    }
   ],
   "source": [
    "# А sort() уже работает по схеме in-place\n",
    "z = [3, 2, 1]\n",
    "z.sort()\n",
    "z"
   ]
  },
  {
   "cell_type": "code",
   "execution_count": 26,
   "metadata": {},
   "outputs": [
    {
     "data": {
      "text/plain": [
       "[3, 2, 1]"
      ]
     },
     "execution_count": 26,
     "metadata": {},
     "output_type": "execute_result"
    }
   ],
   "source": [
    "z = [1, 2, 3]\n",
    "z.sort(reverse=True)\n",
    "z"
   ]
  },
  {
   "cell_type": "code",
   "execution_count": 27,
   "metadata": {},
   "outputs": [
    {
     "data": {
      "text/plain": [
       "'a,b,c'"
      ]
     },
     "execution_count": 27,
     "metadata": {},
     "output_type": "execute_result"
    }
   ],
   "source": [
    "# join - крайне полезная фуннкция, чтобы преобразовать список в строку с заданным соединителем\n",
    "s = ','.join(['a', 'b', 'c'])\n",
    "s"
   ]
  },
  {
   "cell_type": "markdown",
   "metadata": {},
   "source": [
    "## Кортеж (tuple)"
   ]
  },
  {
   "cell_type": "code",
   "execution_count": 30,
   "metadata": {},
   "outputs": [],
   "source": [
    "# Кортежи - это неизменяемые (иммутабельные) списки\n",
    "# Практически все, что можно делать со списком, можно делать и с кортежом (не внося в него изменения)\n",
    "# Вместо квадратных скобок [] кортеж оформляют круглыми () или вообще обходятся без них\n",
    "\n",
    "my_list = [1, 2]\n",
    "my_tuple = (1, 2)\n",
    "other_tuple = 3, 4\n",
    "\n",
    "my_list[1] = 3  # Теперь my_list = [1, 3]"
   ]
  },
  {
   "cell_type": "code",
   "execution_count": 31,
   "metadata": {},
   "outputs": [],
   "source": [
    "# Что будет если попробовать выполнить команду?\n",
    "# my_tuple[1] = 3"
   ]
  },
  {
   "cell_type": "code",
   "execution_count": 35,
   "metadata": {},
   "outputs": [
    {
     "data": {
      "text/plain": [
       "(4, 5)"
      ]
     },
     "execution_count": 35,
     "metadata": {},
     "output_type": "execute_result"
    }
   ],
   "source": [
    "# Доступ к элементам кортежа осуществляется также как и для списка\n",
    "\n",
    "x = (4, 5, 6)\n",
    "x[2]\n",
    "\n",
    "# Кортежи также можно нарезать\n",
    "x[:-1]  # = (4, 5)"
   ]
  },
  {
   "cell_type": "code",
   "execution_count": 41,
   "metadata": {},
   "outputs": [
    {
     "data": {
      "text/plain": [
       "[(1, 2), (4, 5)]"
      ]
     },
     "execution_count": 41,
     "metadata": {},
     "output_type": "execute_result"
    }
   ],
   "source": [
    "# Иногда удобно работать с парами (например координаты на плоскости: x, y). Пары легко можно положить в список.\n",
    "# Таким образом получаем список координат\n",
    "x = (1, 2)\n",
    "y = (4, 5)\n",
    "listOfCoords = [x, y]\n",
    "listOfCoords"
   ]
  },
  {
   "cell_type": "code",
   "execution_count": 45,
   "metadata": {},
   "outputs": [
    {
     "name": "stdout",
     "output_type": "stream",
     "text": [
      "2 1\n"
     ]
    }
   ],
   "source": [
    "# Мы уже говорили про распаковку, так вот кортежи тоже можно распаковывать сразу в переменные\n",
    "x, y = (1, 2)\n",
    "x, y = 1, 2  # То же самое, что и строка выше\n",
    "\n",
    "# Good practice: эффектный способ обмена переменных\n",
    "x, y = y, x\n",
    "\n",
    "print(x, y)"
   ]
  },
  {
   "cell_type": "code",
   "execution_count": 48,
   "metadata": {},
   "outputs": [
    {
     "name": "stdout",
     "output_type": "stream",
     "text": [
      "21\n",
      "120000\n"
     ]
    }
   ],
   "source": [
    "age, income = \"21,120000\".split(',')  # split возвращает список => затем мы его распакуем в переменные age, income\n",
    "print(age)\n",
    "print(income)"
   ]
  },
  {
   "cell_type": "markdown",
   "metadata": {},
   "source": [
    "## Словарь (dict)"
   ]
  },
  {
   "cell_type": "code",
   "execution_count": 1,
   "metadata": {},
   "outputs": [],
   "source": [
    "# Словарь или ассоциативный список или хеш-таблица - еще одна основная структура данных\n",
    "\n",
    "empty_dict = {}  # Good practice\n",
    "empty_dict2 = dict()  # Bad practice\n",
    "\n",
    "grades = {'Brad': 80, 'Leo': 90}  # Литерал словаря\n",
    "\n",
    "brad_grade = grades['Brad']  # = 80"
   ]
  },
  {
   "cell_type": "code",
   "execution_count": 1,
   "metadata": {},
   "outputs": [],
   "source": [
    "# Как думаете, что будет если запустить код?\n",
    "# eugene_grade = grades['Eugene']"
   ]
  },
  {
   "cell_type": "code",
   "execution_count": 54,
   "metadata": {},
   "outputs": [],
   "source": [
    "# На самом деле часто возникает ситуация, когда мы хотим получить элемент по какому-то ключу, но не уверены,\n",
    "# что такой существует\n",
    "\n",
    "# 1ый способ\n",
    "# Проверяем наличие ключа в словаре\n",
    "eugene_has_grade = 'Eugene' in grades  # False (*)\n",
    "leo_has_grade = 'Leo' in grades  # True\n",
    "# На основании булева значения делаем вывод (можно оформить в виде условного выражения)\n",
    "if eugene_has_grade:\n",
    "    eugene_grade = 77\n",
    "else:\n",
    "    eugene_grade = 0\n",
    "\n",
    "# Note\n",
    "eugene_has_grade = 'Eugene' in grades.keys()  # Эквивалент (*)\n",
    "\n",
    "# Good practice: 2й способ\n",
    "kate_grade = grades.get('Kate', 0)  # Если в grades есть ключ 'Kate', то возвращает значение по заданному ключу.\n",
    "# Если нету, то возвращает 2й аргумент (в данном случае 0)\n",
    "\n",
    "kate_grade = grades.get('Kate')  # Значение по умолчанию = None"
   ]
  },
  {
   "cell_type": "code",
   "execution_count": 55,
   "metadata": {},
   "outputs": [],
   "source": [
    "# Присваивание происходит также как и со списками, только вместо индекса задаем ключ\n",
    "grades['Ellie'] = 55\n",
    "\n",
    "# Замена значения по ключу делается аналогично\n",
    "grades['Ellie'] = 100\n",
    "\n",
    "# Кол-во записей (пар ключ-значение) в словарей\n",
    "num_of_students = len(grades)"
   ]
  },
  {
   "cell_type": "code",
   "execution_count": 58,
   "metadata": {},
   "outputs": [],
   "source": [
    "# У вас может возникнуть вопрос. А для чего собственно нужны словари?\n",
    "# На самом деле словари - это необходимая штука практически в любой программе: Users, Keys, Data\n",
    "# Here comes json, but about that we will talk later\n",
    "\n",
    "# Простой пример\n",
    "post = {\n",
    "    'author': 'Joel',\n",
    "    'text': 'Сколько тут еще щелкунов то?',\n",
    "    'reposts_count': 100,\n",
    "    'hashtags': ['#lastofus', '#apocalypse'],  # , в конце опциональна\n",
    "}"
   ]
  },
  {
   "cell_type": "code",
   "execution_count": 60,
   "metadata": {},
   "outputs": [
    {
     "name": "stdout",
     "output_type": "stream",
     "text": [
      "author: Joel\n",
      "text: Сколько тут еще щелкунов то?\n",
      "reposts_count: 100\n",
      "hashtags: ['#lastofus', '#apocalypse']\n"
     ]
    }
   ],
   "source": [
    "# Проход по ключам словаря\n",
    "for key in post:\n",
    "    print(key + \": \" + str(post[key]))"
   ]
  },
  {
   "cell_type": "code",
   "execution_count": 61,
   "metadata": {},
   "outputs": [
    {
     "name": "stdout",
     "output_type": "stream",
     "text": [
      "author: Joel\n",
      "text: Сколько тут еще щелкунов то?\n",
      "reposts_count: 100\n",
      "hashtags: ['#lastofus', '#apocalypse']\n"
     ]
    }
   ],
   "source": [
    "# То же самое, что и блок выше. Однако это касается только 3го питона\n",
    "for key in post.keys():\n",
    "    print(key + \": \" + str(post[key]))"
   ]
  },
  {
   "cell_type": "code",
   "execution_count": 62,
   "metadata": {},
   "outputs": [
    {
     "name": "stdout",
     "output_type": "stream",
     "text": [
      "author: Joel\n",
      "text: Сколько тут еще щелкунов то?\n",
      "reposts_count: 100\n",
      "hashtags: ['#lastofus', '#apocalypse']\n"
     ]
    }
   ],
   "source": [
    "# Good practice: наиболее удобный способ прохода по словарю по ключам и элементам\n",
    "for key, value in post.items():\n",
    "    print(key + \": \" + str(value))"
   ]
  },
  {
   "cell_type": "markdown",
   "metadata": {},
   "source": [
    "## Множество (set)"
   ]
  },
  {
   "cell_type": "code",
   "execution_count": 16,
   "metadata": {},
   "outputs": [],
   "source": [
    "# Структура данных set или множество представляет собой совокупность неупорядоченных элементов без повторов\n",
    "\n",
    "s = set()  # задать пустое множество\n",
    "s.add(1)  # Теперь s = {1}\n",
    "s.add(2)  # s = {1, 2}\n",
    "s.add(2)  # s = {1, 2}\n",
    "s.remove(1) # удаление элемента 1\n",
    "\n",
    "s_len = len(s)  # = 2\n",
    "is_two_in_s = 2 in s  # = True\n",
    "is_three_in_s = 3 in s  # = False"
   ]
  },
  {
   "cell_type": "code",
   "execution_count": 17,
   "metadata": {},
   "outputs": [
    {
     "data": {
      "text/plain": [
       "3"
      ]
     },
     "execution_count": 17,
     "metadata": {},
     "output_type": "execute_result"
    }
   ],
   "source": [
    "# Множества используются по 2ум причинам.\n",
    "# 1) Операция in - очень быстрая O(1) ( в то время как в списках O(n) )\n",
    "# 2) Уникальные элементы\n",
    "\n",
    "stopwords_list = ['fast', 'hurry', 'buy']\n",
    "'hurry' in stopwords_list  # True, но проверяется каждый элемент => медленно, особенно если список огромный\n",
    "\n",
    "stopwords_set = set(stopwords_list)\n",
    "'hurry' in stopwords_set  # True, ошеломительно быстро, так как set - hash таблица\n",
    "\n",
    "len(stopwords_set)  # Получаем количество только уникальных элементов"
   ]
  },
  {
   "cell_type": "code",
   "execution_count": 18,
   "metadata": {},
   "outputs": [
    {
     "name": "stdout",
     "output_type": "stream",
     "text": [
      "Union : {0, 1, 2, 3, 4, 5, 6, 8, 'a'} \t {0, 1, 2, 3, 4, 5, 6, 8, 'a'}\n",
      "Intersection : {2, 4} \t {2, 4}\n",
      "Difference : {0, 8, 'a', 6} \t {0, 8, 'a', 6}\n",
      "Symmetric difference : {0, 1, 3, 5, 6, 8, 'a'} \t {0, 1, 3, 5, 6, 8, 'a'}\n"
     ]
    }
   ],
   "source": [
    "# Рассмотрим удобные операции с set\n",
    "\n",
    "A = {0, 2, 2, 4, 'a', 6, 8}  # = set([0, 2, 4, 'a', 6, 8]) - множество с элементами 0, 2, 4, 'a', 6, 8\n",
    "B = {1, 2, 3, 4, 5}\n",
    "  \n",
    "# Объединение\n",
    "print(\"Union :\", A | B, '\\t', A.union(B))\n",
    "  \n",
    "# Пересечение\n",
    "print(\"Intersection :\", A & B, '\\t', A.intersection(B)) \n",
    "  \n",
    "# Разница\n",
    "print(\"Difference :\", A - B, '\\t', A.difference(B)) \n",
    "  \n",
    "# Симметрическая разница\n",
    "print(\"Symmetric difference :\", A ^ B, '\\t', A.symmetric_difference(B)) \n",
    "\n",
    "# Note:\n",
    "# set не может хранить unhashable типы данных\n",
    "# dict не может использовать их как ключи \n",
    "# Все простые типы hashable \n",
    "# объекты могут быть hashable \n",
    "# встроенные структуры не hashable, кроме tuple\n",
    "# Неизменяемые объекты или объекты, которые нельзя изменить, являются хешируемыми"
   ]
  },
  {
   "cell_type": "markdown",
   "metadata": {},
   "source": [
    "Дополнительно можно изучить очень полезные структуры данных: **defaultdict, Counter** из модуля Collections, которые довольно часто встречаются при работе с большими данными:\n",
    "https://pythonworld.ru/moduli/modul-collections.html"
   ]
  },
  {
   "cell_type": "markdown",
   "metadata": {},
   "source": [
    "### Практическая часть\n",
    "\n",
    "1. Установить пакет анаконда и гит (при необходимости)\n",
    "2. Создать локальный git-репозиторий\n",
    "3. Закодить **задачу** (задаем в начале радиус как фиксированный параметр, делаем выкладки и печатаем в конце ответ)\n",
    "4. Закоммитить проверенную задачу\n",
    "5. Зарегистрироваться на https://github.com и создать удаленный репозиторий в веб-интерфейсе\n",
    "6. Связать локальный и удаленный репозитории\n",
    "7. Запушить код на удаленный сервер\n",
    "\n",
    "**Задача**\n",
    "\n",
    "Алан впервые сегодня вечером будет смотреть Кровавую Луну (лунное затмение). Но его мать, которая является учителем истории, считает, что Кровавая Луна имеет злые намерения. Древние люди инков интерпретировали глубокую красную окраску как ягуар, нападающий и поедающий луну. Но кто верит в мифы инков в наши дни? Итак, Алан решает доказать маме, что ягуара нет. Как? Ну, только маленький Алан знает это. Сейчас ему нужна небольшая помощь от вас. Помогите ему выполнить следующие вычисления, чтобы у него было достаточно времени, чтобы доказать это до начала затмения.\n",
    "\n",
    "![alt-текст](blood_moon.png)\n",
    "Три полукруга нарисованы на AB, AD и AF. CD перпендикулярен AB, а EF перпендикулярен AD.\n",
    "\n",
    "Учитывая радиус полукруга ADBCA, определите площадь луны AGFHA (заштрихованная область).\n",
    "\n",
    "*Лунное затмение:*\n",
    "![alt-текст](scheme_blood_moon.png)"
   ]
  },
  {
   "cell_type": "code",
   "execution_count": 7,
   "metadata": {},
   "outputs": [
    {
     "name": "stdout",
     "output_type": "stream",
     "text": [
      "6.249999999999999\n",
      "6.25\n"
     ]
    }
   ],
   "source": [
    "from math import pi, sqrt\n",
    "\n",
    "R = 5  # Радиус ADB\n",
    "\n",
    "AD = sqrt(R**2 + R**2)\n",
    "R1 = AD / 2  # Радиус AFD\n",
    "AHFE = pi * R1**2 / 4\n",
    "AFE = R1 * R1 / 2\n",
    "AHF = AHFE - AFE\n",
    "R2 = R / 2  # Радиус AGF\n",
    "AGF = pi * R2**2 / 2\n",
    "\n",
    "print(AGF - AHF, R**2/4)  # Ответы могут не совпадать с точностью до малой величины\n",
    "# Note:\n",
    "# Поскольку числа с плавающей точкой представляются в памяти неточно, лучше не использовать операции точного\n",
    "# сравнения между float'ами. Можно сравнивать два float'а путем сравнения их разности с малой\n",
    "# величиной |f1 - f2| < eps. Если же нужна точность, то используйте модуль decimal. "
   ]
  },
  {
   "cell_type": "code",
   "execution_count": null,
   "metadata": {},
   "outputs": [],
   "source": []
  }
 ],
 "metadata": {
  "kernelspec": {
   "display_name": "Python 3",
   "language": "python",
   "name": "python3"
  },
  "language_info": {
   "codemirror_mode": {
    "name": "ipython",
    "version": 3
   },
   "file_extension": ".py",
   "mimetype": "text/x-python",
   "name": "python",
   "nbconvert_exporter": "python",
   "pygments_lexer": "ipython3",
   "version": "3.7.4"
  }
 },
 "nbformat": 4,
 "nbformat_minor": 2
}
