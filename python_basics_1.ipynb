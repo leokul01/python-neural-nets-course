{
 "cells": [
  {
   "cell_type": "markdown",
   "metadata": {},
   "source": [
    "**Python** — высокоуровневый интерпретируемый язык программирования общего назначения, ориентированный на повышение производительности разработчика и читаемости кода.\n",
    "\n",
    "Создатель: Guido van Rossum\n",
    "\n",
    "Основные архитектурные черты — динамическая типизация, автоматическое управление памятью, полная интроспекция, механизм обработки исключений, поддержка многопоточных вычислений, высокоуровневые структуры данных. Поддерживается разбиение программ на модули, которые, в свою очередь, могут объединяться в пакеты."
   ]
  },
  {
   "cell_type": "markdown",
   "metadata": {},
   "source": [
    "## Философия\n",
    "\n",
    "```python\n",
    "In [1]: import this\n",
    "\n",
    "The Zen of Python, by Tim Peters\n",
    "\n",
    "Beautiful is better than ugly.\n",
    "Explicit is better than implicit.\n",
    "Simple is better than complex.\n",
    "Complex is better than complicated.\n",
    "Flat is better than nested.\n",
    "Sparse is better than dense.\n",
    "Readability counts.\n",
    "Special cases aren't special enough to break the rules.\n",
    "Although practicality beats purity.\n",
    "Errors should never pass silently.\n",
    "Unless explicitly silenced.\n",
    "In the face of ambiguity, refuse the temptation to guess.\n",
    "There should be one-- and preferably only one --obvious way to do it.\n",
    "Although that way may not be obvious at first unless you're Dutch.\n",
    "Now is better than never.\n",
    "Although never is often better than *right* now.\n",
    "If the implementation is hard to explain, it's a bad idea.\n",
    "If the implementation is easy to explain, it may be a good idea.\n",
    "Namespaces are one honking great idea -- let's do more of those!\n",
    "```"
   ]
  },
  {
   "cell_type": "markdown",
   "metadata": {},
   "source": [
    "## Версии Python\n",
    "Язык сейчас существует в двух актуальных версиях: Python 2 и Python 3.  \n",
    "Базовые идеи совпадают, есть различия в синтаксисе и в интерфейсе библиотек.  \n",
    "Развитие версии 2 по плану должно быть прекращено с 2020г., поэтому в материалах курса используется только Python 3.  \n",
    "На Python 2 по-прежнему пишут, поэтому желательно проверять версию при использовании чужого кода."
   ]
  },
  {
   "cell_type": "markdown",
   "metadata": {},
   "source": [
    "## Установка Python 3\n",
    "```shell\n",
    "brew install python # MacOS\n",
    "# На Linux, как правило, Python предустановлен\n",
    "# На Windows проще всего использовать пакет Anaconda: https://www.anaconda.com\n",
    "```"
   ]
  },
  {
   "cell_type": "markdown",
   "metadata": {},
   "source": [
    "## Запуск интерпретатора\n",
    "\n",
    "```shell\n",
    "python3 # Default for MacOS and Linux\n",
    "python # Windows\n",
    "ipython # Улучшенная версия стандартного интерпретатора, нужно скачивать\n",
    "```\n",
    "\n",
    "Запустив интерпретатор (Программу, которая интерпретирует наш код и переводит в машинный код, который затем выполняется процессором) выполним простейшую арифметическую операцию\n",
    "```python\n",
    "In [1]: 3 + 4\n",
    "Out[1]: 7\n",
    "```\n",
    "\n",
    "Можно запустить интерпретацию целого файла командой `python файл_с_кодом.py.`  \n",
    "В этом случае интерпретатор сначала проверит базовый синтаксис (чтобы считывание файла было минимально осмысленным), а затем будет выполнять команды построчно, как если бы они вводились руками."
   ]
  },
  {
   "cell_type": "markdown",
   "metadata": {},
   "source": [
    "## Jupyter\n",
    "\n",
    "**Jupyter** - браузерный редактор кода (и не только), который поставляется вместе с пакетом **Anaconda**.  \n",
    "Если же вы не желаете устанавливать пакет Anaconda, как я например :), то можно скачать отдельно jupyter при помощи какого-нибудь пакетного менеджера.\n",
    "\n",
    "**Anaconda**: https://www.anaconda.com <- включает в себя jupyter\n",
    "\n",
    "Для хардкорщиков (альтернатива анаконды):\n",
    "```shell\n",
    "pip3 install jupyter # Manual installation of jupyter\n",
    "```\n",
    "\n",
    "Jupyter очень удобен для проверки каких-либо гипотез.  \n",
    "Вы можете быстро попробовать какие-то куски кода и тут же посмотреть их вывод.  \n",
    "Более того jupyter разбивает окно с кодом на ячейки, которые можно исполнять по отдельности, сохраняя при этом общий контекст (который определяется ядром - kernel).\n",
    "\n",
    "Практически во всех случаях, когда вам не надо писать полноценную программу можно использовать Jupyter, так как он выводит графики вместе с кодом, результат вместе с кодом и позволяет удобно организовывать код. По этой причине он очень популярен среди Data Scientist'ов.\n",
    "\n",
    "А еще сюда можно вставлять картинки, ссылки и красиво оформлять обычный текст с помощью языка разметки Markdown.\n",
    "\n",
    "Также такими конспектами (jupyter ноутбуки) удобно делиться с коллегами. Коллега сможет посмотреть и код, и вывод кода даже без запуска интерпретатора!\n",
    "\n",
    "Jupyter мы будем изучать на протяжении всего курса, так что если я вас еще не убедил в его офигенности, то дайте ему время."
   ]
  },
  {
   "cell_type": "markdown",
   "metadata": {},
   "source": [
    "## Встроенная помощь\n",
    "\n",
    "В интерпретаторе можно вызвать помощь: либо общую, вызовом функции `help()`, либо по конкретному объекту, вызовом `help(объект)`, например:\n",
    "```python\n",
    "In [1]: x = 5\n",
    "In [2]: help(x) \n",
    "Out[2]: class int(object)\n",
    " |  int([x]) -> integer\n",
    " |  int(x, base=10) -> integer\n",
    " |\n",
    " |  Convert a number or string to an integer, or return 0 if no arguments\n",
    " |  are given.  If x is a number, return x.__int__().  For floating point\n",
    " |  numbers, this truncates towards zero.\n",
    " |\n",
    " |  If x is not a number or if base is given, then x must be a string,\n",
    " |  bytes, or bytearray instance representing an integer literal in the\n",
    " |  given base.  The literal can be preceded by '+' or '-' and be surrounded\n",
    " |  by whitespace.  The base defaults to 10.  Valid bases are 0 and 2-36.\n",
    " |  Base 0 means to interpret the base from the string as an integer literal.\n",
    " |  >>> int('0b100', base=0)\n",
    " |  4\n",
    "```\n",
    "\n",
    "Можно использовать в качестве «помощи» функцию dir. `dir()` выдаёт список доступных переменных, `dir(объект)` — список доступных методов объекта.\n",
    "\n",
    "```python\n",
    "In [1]: s = 'Hello world'\n",
    "\n",
    "In [2]: dir(s)\n",
    "Out[2]:\n",
    "['__add__',\n",
    " '__class__',\n",
    " '__contains__',\n",
    " '__delattr__',\n",
    " '__dir__',\n",
    " '__doc__',\n",
    " '__eq__',\n",
    "```"
   ]
  },
  {
   "cell_type": "markdown",
   "metadata": {},
   "source": [
    "## Базовый синтаксис\n",
    "\n",
    "Программа пишется по строкам, каждая из которых содержит одно выражение.  \n",
    "В конце строки не ставятся никакие знаки препинания (нет точек с запятой, как в C).  \n",
    "Переменные языка не объявляются, а создаются при первом присваивании в них:  \n",
    "```python\n",
    "x = 5 # создана переменная x, хранящая целое число 5 \n",
    "y = x + 5/7 # в переменной y --- дробное число\n",
    "z = 'Value: ' + str(y) # z хранит строку\n",
    "```\n",
    "\n",
    "Законно (хотя нежелательно) менять тип переменной, присвоив ей значение нового типа:  \n",
    "```python\n",
    "x = 5 # в x целое число\n",
    "x = 'string' # теперь строка\n",
    "```"
   ]
  },
  {
   "cell_type": "markdown",
   "metadata": {},
   "source": [
    "## Встроенные простые типы\n",
    "* Целое число: поддерживает стандартный набор арифметических операций. Возведение в степень вычислятся оператором «\\*\\*». Диапазон значений не ограничен:\n",
    "```python\n",
    "5 ** 50\n",
    "88817841970012523233890533447265625\n",
    "```\n",
    "* Число с плавающей точкой отличается от C: там операция с целыми числами всегда выдавала целый результат, операция с дробями — дробный. В Python деление знаком «/» выдаёт дробь, целочисленное деление выполняется «//», остаток от деления — «%»:\n",
    "```python\n",
    "7 / 3 # выдаст 2.3333333333333335\n",
    "7 // 3 # выдаст 2\n",
    "7 % 3 # выдаст 1\n",
    "```\n",
    "* Логическое значение: True или False:\n",
    "```python\n",
    "False or True # выдаст True \n",
    "(4 < 5) and (1.2 == 1.3) # выдаст False\n",
    "```\n",
    "* Последовательность байтов;\n",
    "* Строка — в отличие от C, это встроенный тип, не просто массив символов (отдельного типа «символ» вообще нет). Последовательность символов в одинарных или двойных кавычках. Можно сделать длинную строку, использовав тройные кавычки:\n",
    "```python\n",
    "'abc' + \"def\" # выдаст ’abcdef’\n",
    "\"\"\" multiline\n",
    "string\n",
    "\"\"\" # выдаст ’ multiline\\nstring\\n’\n",
    "```\n",
    "\n",
    "Встроенные строки неизменны  \n",
    "У строк есть множество методов, позволяющих преобразовывать их:  \n",
    "```python\n",
    "'abc' * 3 # 'abcabcabc'\n",
    "len('abc') # 3 \n",
    "'123'.isdigit() # True \n",
    "'123'[0] # '1'\n",
    "s = 'abc def ghi'\n",
    "s.split(' ') # список: ['abc', 'def', 'ghi']\n",
    "```\n",
    "Есть одна особенность — **строки неизменны**:  \n",
    "```python\n",
    "'123'[0] = 'a' # не сработает\n",
    "# Все функции, которые, казалось бы, должны менять\n",
    "# строку, на самом деле создают новую:\n",
    "'abc'.upper() # новая строка ’ABC’\n",
    "```"
   ]
  },
  {
   "cell_type": "markdown",
   "metadata": {},
   "source": [
    "## Специальные значения\n",
    "**None** — значение (специального типа NoneType), представляющее отсутствие значения. В C обычно используют заведомо неправильное, недопустимое значение, чтобы показать, что переменная пока не инициализирована. В Python вместо этого применяют None. None не равен никакому значению; иногда None может быть не равен None, поэтому при проверке надо использовать выражение «переменная is None» / «переменная is not None»:\n",
    "```python\n",
    "a = None\n",
    "if info_correct:\n",
    "    a = len(info)\n",
    "if a is None:  # проверка на None\n",
    "    \n",
    "# Представление бесконечного значения:\n",
    "import math\n",
    "math.inf\n",
    "```\n",
    "**NaN** (Not a Number) — специальное значение для результатов неудачных арифметических операций. Вводится многими сторонними библиотеками, в частности numpy (распространённой библиотекой численных методов). Разберем эту библиотеку позже."
   ]
  },
  {
   "cell_type": "markdown",
   "metadata": {},
   "source": [
    "## Работа с памятью\n",
    "Выделение памяти под встроенные типы выполняется автоматически.\n",
    "\n",
    "\n",
    "Память под объекты классов выделяется при их создании.\n",
    "\n",
    "\n",
    "Освобождение памяти всегда выполняется автоматически сборщиком мусора (кроме работы с модулями других языков, требующими явного вызова методов уничтожения объектов).\n",
    "\n",
    "\n",
    "Беспокоиться о корректности очистки не надо, но она влияет на производительность."
   ]
  },
  {
   "cell_type": "markdown",
   "metadata": {},
   "source": [
    "## Список (list)"
   ]
  },
  {
   "cell_type": "code",
   "execution_count": 1,
   "metadata": {},
   "outputs": [
    {
     "name": "stdout",
     "output_type": "stream",
     "text": [
      "6 \n",
      "\n",
      "1\n",
      "is odd\n",
      "2\n",
      "is even\n",
      "3\n",
      "is odd\n",
      "4\n",
      "is even\n",
      "5\n",
      "is odd\n",
      "6\n",
      "is even\n",
      "All done.\n"
     ]
    }
   ],
   "source": [
    "x = [1, 2, 3, 4, 5, 6] # list - аналог динамического массива C; Хранит объекты, обеспечивает доступ к ним по численному индексу\n",
    "print(len(x), '\\n')\n",
    "\n",
    "for number in x:\n",
    "    print(number)\n",
    "    if (number % 2 == 0):\n",
    "        print(\"is even\")\n",
    "    else:\n",
    "        print(\"is odd\")\n",
    "        \n",
    "print (\"All done.\")"
   ]
  },
  {
   "cell_type": "code",
   "execution_count": 2,
   "metadata": {},
   "outputs": [
    {
     "data": {
      "text/plain": [
       "['abc', 1]"
      ]
     },
     "execution_count": 2,
     "metadata": {},
     "output_type": "execute_result"
    }
   ],
   "source": [
    "# Списки к слову не обязаны содержать элементы одинакового типа.\n",
    "bad_list = ['abc', 1]\n",
    "bad_list\n",
    "\n",
    "# Но лучше не стоит этим злоупотреблять, так как это не консистентно."
   ]
  },
  {
   "cell_type": "code",
   "execution_count": 3,
   "metadata": {},
   "outputs": [
    {
     "data": {
      "text/plain": [
       "[2, 3]"
      ]
     },
     "execution_count": 3,
     "metadata": {},
     "output_type": "execute_result"
    }
   ],
   "source": [
    "x[1:3] # slicing"
   ]
  },
  {
   "cell_type": "code",
   "execution_count": 4,
   "metadata": {},
   "outputs": [
    {
     "data": {
      "text/plain": [
       "[1, 2, 3]"
      ]
     },
     "execution_count": 4,
     "metadata": {},
     "output_type": "execute_result"
    }
   ],
   "source": [
    "x[:3]"
   ]
  },
  {
   "cell_type": "code",
   "execution_count": 5,
   "metadata": {},
   "outputs": [
    {
     "data": {
      "text/plain": [
       "[4, 5, 6]"
      ]
     },
     "execution_count": 5,
     "metadata": {},
     "output_type": "execute_result"
    }
   ],
   "source": [
    "x[3:]"
   ]
  },
  {
   "cell_type": "code",
   "execution_count": 6,
   "metadata": {},
   "outputs": [
    {
     "data": {
      "text/plain": [
       "[1, 2, 3, 4, 5, 6]"
      ]
     },
     "execution_count": 6,
     "metadata": {},
     "output_type": "execute_result"
    }
   ],
   "source": [
    "list(x[:])"
   ]
  },
  {
   "cell_type": "code",
   "execution_count": 7,
   "metadata": {},
   "outputs": [
    {
     "data": {
      "text/plain": [
       "[5, 6]"
      ]
     },
     "execution_count": 7,
     "metadata": {},
     "output_type": "execute_result"
    }
   ],
   "source": [
    "x[-2:]"
   ]
  },
  {
   "cell_type": "code",
   "execution_count": 8,
   "metadata": {},
   "outputs": [
    {
     "data": {
      "text/plain": [
       "[1, 2, 3, 4, 5, 6, 7, 8]"
      ]
     },
     "execution_count": 8,
     "metadata": {},
     "output_type": "execute_result"
    }
   ],
   "source": [
    "x.extend([7,8])\n",
    "x"
   ]
  },
  {
   "cell_type": "code",
   "execution_count": 9,
   "metadata": {},
   "outputs": [
    {
     "data": {
      "text/plain": [
       "[2, 3, 4, 5, 6, 7, 8]"
      ]
     },
     "execution_count": 9,
     "metadata": {},
     "output_type": "execute_result"
    }
   ],
   "source": [
    "del x[0]\n",
    "x"
   ]
  },
  {
   "cell_type": "code",
   "execution_count": 10,
   "metadata": {},
   "outputs": [
    {
     "data": {
      "text/plain": [
       "[2, 3, 4, 5, 6, 7, 8, 9]"
      ]
     },
     "execution_count": 10,
     "metadata": {},
     "output_type": "execute_result"
    }
   ],
   "source": [
    "x.append(9)\n",
    "x"
   ]
  },
  {
   "cell_type": "code",
   "execution_count": 11,
   "metadata": {},
   "outputs": [
    {
     "data": {
      "text/plain": [
       "[[2, 3, 4, 5, 6, 7, 8, 9], [10, 11, 12]]"
      ]
     },
     "execution_count": 11,
     "metadata": {},
     "output_type": "execute_result"
    }
   ],
   "source": [
    "y = [10, 11, 12]\n",
    "listOfLists = [x, y]\n",
    "listOfLists"
   ]
  },
  {
   "cell_type": "code",
   "execution_count": 12,
   "metadata": {},
   "outputs": [
    {
     "data": {
      "text/plain": [
       "11"
      ]
     },
     "execution_count": 12,
     "metadata": {},
     "output_type": "execute_result"
    }
   ],
   "source": [
    "y[1]"
   ]
  },
  {
   "cell_type": "code",
   "execution_count": 13,
   "metadata": {},
   "outputs": [
    {
     "name": "stdout",
     "output_type": "stream",
     "text": [
      "[1, 2, 3]\n"
     ]
    },
    {
     "data": {
      "text/plain": [
       "[3, 2, 1]"
      ]
     },
     "execution_count": 13,
     "metadata": {},
     "output_type": "execute_result"
    }
   ],
   "source": [
    "z = [3, 2, 1]\n",
    "print(sorted(z))\n",
    "z"
   ]
  },
  {
   "cell_type": "code",
   "execution_count": 14,
   "metadata": {},
   "outputs": [
    {
     "data": {
      "text/plain": [
       "[1, 2, 3]"
      ]
     },
     "execution_count": 14,
     "metadata": {},
     "output_type": "execute_result"
    }
   ],
   "source": [
    "z.sort()\n",
    "z"
   ]
  },
  {
   "cell_type": "code",
   "execution_count": 15,
   "metadata": {},
   "outputs": [
    {
     "data": {
      "text/plain": [
       "[3, 2, 1]"
      ]
     },
     "execution_count": 15,
     "metadata": {},
     "output_type": "execute_result"
    }
   ],
   "source": [
    "z.sort(reverse=True)\n",
    "z"
   ]
  },
  {
   "cell_type": "code",
   "execution_count": 16,
   "metadata": {},
   "outputs": [
    {
     "data": {
      "text/plain": [
       "'a,b,c'"
      ]
     },
     "execution_count": 16,
     "metadata": {},
     "output_type": "execute_result"
    }
   ],
   "source": [
    "s = ','.join(['a', 'b', 'c'])\n",
    "s"
   ]
  },
  {
   "cell_type": "markdown",
   "metadata": {},
   "source": [
    "## Кортеж (tuple)"
   ]
  },
  {
   "cell_type": "code",
   "execution_count": 17,
   "metadata": {},
   "outputs": [
    {
     "data": {
      "text/plain": [
       "3"
      ]
     },
     "execution_count": 17,
     "metadata": {},
     "output_type": "execute_result"
    }
   ],
   "source": [
    "# Кортежи - это неизменяемые списки. Используй () вместо []\n",
    "\n",
    "x = (1, 2, 3)\n",
    "len(x)"
   ]
  },
  {
   "cell_type": "code",
   "execution_count": 18,
   "metadata": {},
   "outputs": [
    {
     "data": {
      "text/plain": [
       "6"
      ]
     },
     "execution_count": 18,
     "metadata": {},
     "output_type": "execute_result"
    }
   ],
   "source": [
    "y = (4, 5, 6)\n",
    "y[2]"
   ]
  },
  {
   "cell_type": "code",
   "execution_count": 19,
   "metadata": {},
   "outputs": [
    {
     "data": {
      "text/plain": [
       "[(1, 2, 3), (4, 5, 6)]"
      ]
     },
     "execution_count": 19,
     "metadata": {},
     "output_type": "execute_result"
    }
   ],
   "source": [
    "listOfTuples = [x, y]\n",
    "listOfTuples"
   ]
  },
  {
   "cell_type": "code",
   "execution_count": 20,
   "metadata": {},
   "outputs": [
    {
     "name": "stdout",
     "output_type": "stream",
     "text": [
      "32\n",
      "120000\n"
     ]
    }
   ],
   "source": [
    "(age, income) = \"32,120000\".split(',')\n",
    "print(age)\n",
    "print(income)"
   ]
  },
  {
   "cell_type": "markdown",
   "metadata": {},
   "source": [
    "## Словарь (dict)"
   ]
  },
  {
   "cell_type": "code",
   "execution_count": 21,
   "metadata": {},
   "outputs": [
    {
     "name": "stdout",
     "output_type": "stream",
     "text": [
      "Janeway\n"
     ]
    }
   ],
   "source": [
    "# Хеш-таблица\n",
    "# Если подробнее, то это некоторое хранилище, которое хранит значения по хешируемым ключам.\n",
    "captains = {}\n",
    "captains[\"Enterprise\"] = \"Kirk\"\n",
    "captains[\"Enterprise D\"] = \"Picard\"\n",
    "captains[\"Deep Space Nine\"] = \"Sisko\"\n",
    "captains[\"Voyager\"] = \"Janeway\"\n",
    "\n",
    "print(captains[\"Voyager\"])"
   ]
  },
  {
   "cell_type": "code",
   "execution_count": 22,
   "metadata": {},
   "outputs": [
    {
     "name": "stdout",
     "output_type": "stream",
     "text": [
      "Kirk\n"
     ]
    }
   ],
   "source": [
    "print(captains.get(\"Enterprise\"))"
   ]
  },
  {
   "cell_type": "code",
   "execution_count": 23,
   "metadata": {},
   "outputs": [
    {
     "name": "stdout",
     "output_type": "stream",
     "text": [
      "None\n"
     ]
    }
   ],
   "source": [
    "print(captains.get(\"NX-01\"))"
   ]
  },
  {
   "cell_type": "code",
   "execution_count": 24,
   "metadata": {},
   "outputs": [
    {
     "name": "stdout",
     "output_type": "stream",
     "text": [
      "Default Value\n"
     ]
    }
   ],
   "source": [
    "print(captains.get(\"NX-01\", \"Default Value\"))"
   ]
  },
  {
   "cell_type": "code",
   "execution_count": 25,
   "metadata": {},
   "outputs": [
    {
     "name": "stdout",
     "output_type": "stream",
     "text": [
      "Enterprise: Kirk\n",
      "Enterprise D: Picard\n",
      "Deep Space Nine: Sisko\n",
      "Voyager: Janeway\n"
     ]
    }
   ],
   "source": [
    "for ship in captains:\n",
    "    print(ship + \": \" + captains[ship])"
   ]
  },
  {
   "cell_type": "code",
   "execution_count": 26,
   "metadata": {},
   "outputs": [
    {
     "name": "stdout",
     "output_type": "stream",
     "text": [
      "Enterprise: Kirk\n",
      "Enterprise D: Picard\n",
      "Deep Space Nine: Sisko\n",
      "Voyager: Janeway\n"
     ]
    }
   ],
   "source": [
    "for ship in captains.keys():\n",
    "    print(ship + \": \" + captains[ship])"
   ]
  },
  {
   "cell_type": "code",
   "execution_count": 27,
   "metadata": {},
   "outputs": [
    {
     "name": "stdout",
     "output_type": "stream",
     "text": [
      "Enterprise: Kirk\n",
      "Enterprise D: Picard\n",
      "Deep Space Nine: Sisko\n",
      "Voyager: Janeway\n"
     ]
    }
   ],
   "source": [
    "for ship, captain in captains.items():\n",
    "    print(ship + \": \" + captain)"
   ]
  },
  {
   "cell_type": "markdown",
   "metadata": {},
   "source": [
    "## Множество (set)"
   ]
  },
  {
   "cell_type": "code",
   "execution_count": 28,
   "metadata": {},
   "outputs": [
    {
     "data": {
      "text/plain": [
       "True"
      ]
     },
     "execution_count": 28,
     "metadata": {},
     "output_type": "execute_result"
    }
   ],
   "source": [
    "# Сильно напоминает dict с одними ключами без данных\n",
    "\n",
    "st = set() # Пустое множество\n",
    "\n",
    "st = set([1, 3, 4, 'a', 4, 3]) # получится множество с элементами 1, 3, 4, 'a' \n",
    "\n",
    "st.union(set([2, 3, 5])) # будет выдано новое множество с элементами {1, 2, 3, 4, 5, ’a’}\n",
    "\n",
    "st.add(2) # добавится элемент 2\n",
    "\n",
    "st.remove(2) # удаление элемента 2\n",
    "\n",
    "3 in st # находится ли элемент в множестве\n",
    "\n",
    "# set не может хранить unhashable типы данных; \n",
    "# dict не может использовать их как ключи. \n",
    "# Все простые типы hashable; \n",
    "# объекты могут быть hashable; \n",
    "# встроенные структуры не hashable"
   ]
  },
  {
   "cell_type": "code",
   "execution_count": null,
   "metadata": {},
   "outputs": [],
   "source": []
  },
  {
   "cell_type": "code",
   "execution_count": null,
   "metadata": {},
   "outputs": [],
   "source": []
  }
 ],
 "metadata": {
  "kernelspec": {
   "display_name": "Python 3",
   "language": "python",
   "name": "python3"
  },
  "language_info": {
   "codemirror_mode": {
    "name": "ipython",
    "version": 3
   },
   "file_extension": ".py",
   "mimetype": "text/x-python",
   "name": "python",
   "nbconvert_exporter": "python",
   "pygments_lexer": "ipython3",
   "version": "3.7.4"
  }
 },
 "nbformat": 4,
 "nbformat_minor": 2
}
